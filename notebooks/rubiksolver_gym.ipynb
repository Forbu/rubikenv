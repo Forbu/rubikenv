{
 "cells": [
  {
   "cell_type": "code",
   "execution_count": 270,
   "metadata": {},
   "outputs": [
    {
     "name": "stderr",
     "output_type": "stream",
     "text": [
      "/opt/conda/lib/python3.8/site-packages/jax/_src/config.py:163: UserWarning: enable_omnistaging() is a no-op in JAX versions 0.2.12 and higher;\n",
      "see https://github.com/google/jax/blob/main/design_notes/omnistaging.md\n",
      "  warnings.warn(\n"
     ]
    }
   ],
   "source": [
    "from flax import optim\n",
    "import jax\n",
    "from typing import Any, Callable, Sequence, Optional\n",
    "from jax import lax, numpy as jnp\n",
    "from jax import vmap, jit\n",
    "import jax.random as jrandom\n",
    "\n",
    "from flax import optim\n",
    "import flax\n",
    "from flax.core import freeze, unfreeze\n",
    "from flax import linen as nn\n",
    "\n",
    "\n",
    "import optax\n",
    "from optax import softmax_cross_entropy\n",
    "import numpy as np\n",
    "\n",
    "from jax.config import config\n",
    "config.enable_omnistaging() # Linen requires enabling omnistaging\n",
    "\n",
    "import collections\n",
    "\n",
    "from torch.utils.data import DataLoader\n",
    "from torch.utils.data import TensorDataset\n",
    "import torch\n",
    "\n",
    "import cProfile\n",
    "from memory_profiler import profile\n",
    "import jax.profiler\n",
    "from jax.interpreters import xla\n",
    "\n",
    "import gc\n",
    "gc.enable()\n",
    "import pickle\n",
    "\n",
    "import matplotlib.pyplot as plt\n",
    "%matplotlib inline"
   ]
  },
  {
   "cell_type": "code",
   "execution_count": null,
   "metadata": {},
   "outputs": [],
   "source": []
  },
  {
   "cell_type": "code",
   "execution_count": 271,
   "metadata": {},
   "outputs": [],
   "source": [
    "import rubikenv"
   ]
  },
  {
   "cell_type": "code",
   "execution_count": 272,
   "metadata": {},
   "outputs": [],
   "source": [
    "import rubikenv.rubikgym as rb"
   ]
  },
  {
   "cell_type": "code",
   "execution_count": 273,
   "metadata": {},
   "outputs": [
    {
     "name": "stdout",
     "output_type": "stream",
     "text": [
      "[[[0 1 2 3 4 5]\n",
      "  [0 1 2 3 4 5]\n",
      "  [0 1 2 3 4 5]]\n",
      "\n",
      " [[0 1 2 3 4 5]\n",
      "  [0 1 2 3 4 5]\n",
      "  [0 1 2 3 4 5]]\n",
      "\n",
      " [[0 1 2 3 4 5]\n",
      "  [0 1 2 3 4 5]\n",
      "  [0 1 2 3 4 5]]]\n"
     ]
    }
   ],
   "source": [
    "rubik = rb.rubikgym()\n",
    "rubik.render()\n"
   ]
  },
  {
   "cell_type": "code",
   "execution_count": 276,
   "metadata": {},
   "outputs": [
    {
     "name": "stdout",
     "output_type": "stream",
     "text": [
      "CPU times: user 0 ns, sys: 5.94 ms, total: 5.94 ms\n",
      "Wall time: 3.13 ms\n"
     ]
    }
   ],
   "source": [
    "%%time\n",
    "env = rb.rubikgym()\n",
    "obs, done = env.reset(), False\n",
    "episode_rew = 0\n",
    "nb_iter = 14\n",
    "\n",
    "## action list\n",
    "#actions = jrandom.randint(key1, shape=(nb_iter,1), minval=0, maxval=12)\n",
    "actions = np.random.randint(0, 12, size=(nb_iter,1))\n",
    "\n",
    "## state list\n",
    "obs_list = []\n",
    "\n",
    "for q in range(nb_iter):\n",
    "\n",
    "    obs, rew, done, _ = env.step(actions[q, 0])\n",
    "    obs_list.append(obs)\n",
    "    \n",
    "    "
   ]
  },
  {
   "cell_type": "code",
   "execution_count": 277,
   "metadata": {},
   "outputs": [],
   "source": [
    "## First we can try to solve it using \"classic machine learning\"\n",
    "## conversion action => on hot encoder\n",
    "\n",
    "from flax import linen as nn\n",
    "\n",
    "class Model_rubik(nn.Module):\n",
    "\n",
    "    features = (4096, 2048, 512, 12)\n",
    "\n",
    "    def setup(self):\n",
    "        self.dense1 = nn.Dense(self.features[0])\n",
    "        self.dense2 = nn.Dense(self.features[1])\n",
    "        self.dense3 = nn.Dense(self.features[2])\n",
    "        self.dense4 = nn.Dense(self.features[3])\n",
    "\n",
    "    def __call__(self, x):\n",
    "        x = nn.relu(self.dense1(x))\n",
    "        x = nn.relu(self.dense2(x))\n",
    "        x = nn.relu(self.dense3(x))\n",
    "        x = self.dense4(x)\n",
    "        return x\n",
    "\n",
    "model_rubik = Model_rubik()\n",
    "    \n",
    "key1, key2 = jrandom.split(jrandom.PRNGKey(0))\n",
    "x = jrandom.normal(key1, (54*6,)) # Dummy input\n",
    "params = model_rubik.init(key2, x)['params'] # Initialization call\n",
    "    \n",
    "#### action help\n",
    "def encoder_one_hot_action(action):\n",
    "    \"\"\"\n",
    "    Encode the action into a one hot encoder vector\n",
    "    \"\"\"\n",
    "    \n",
    "    action_encode = jnp.zeros(12)\n",
    "    action_encode = jax.ops.index_update(action_encode, jax.ops.index[action], 1)\n",
    "\n",
    "    return action_encode\n",
    "\n",
    "def encoder_decode_action(action_encode):\n",
    "    \"\"\"\n",
    "    Decode from one hot to int value\n",
    "    \"\"\"\n",
    "    action = jnp.argmax(action_encode)\n",
    "    \n",
    "    return action\n",
    "\n",
    "#### state help\n",
    "def encoder_one_hot_state(state):\n",
    "    \"\"\"\n",
    "    Encode the action into a one hot encoder vector\n",
    "    \"\"\"\n",
    "    \n",
    "    state = jnp.array(state)\n",
    "    state = jnp.ravel(state)\n",
    "    \n",
    "    state_encode = jnp.zeros((54, 6))\n",
    "    \n",
    "    for idx, i in enumerate(state):\n",
    "        state_encode = jax.ops.index_update(state_encode, jax.ops.index[idx, i], 1)\n",
    "\n",
    "    return jnp.ravel(state_encode), state_encode\n",
    "\n",
    "def encoder_decode_state(state_encode):\n",
    "    \"\"\"\n",
    "    Decode from one hot to int value\n",
    "    \"\"\"\n",
    "    state = jnp.argmax(state_encode, axis=1)\n",
    "    \n",
    "    return state\n",
    "\n",
    "def compute_inverse_action(action):\n",
    "    pos = (action // 4) \n",
    "    inv_pos = (action - pos*4)\n",
    "    inv_pos_new = (inv_pos  + 2) % 4\n",
    "    \n",
    "    return pos*4 + inv_pos_new \n",
    "\n",
    "reverse_list = vmap(compute_inverse_action)\n",
    "\n",
    "encoder_one_hot_action_action = vmap(encoder_one_hot_action)\n",
    "encoder_one_hot_state_vector = vmap(encoder_one_hot_state)\n",
    "\n",
    "def compute_random_suffle(dumpy_value, nb_iter=15):\n",
    "    \n",
    "    env.reset()\n",
    "    episode_rew = 0\n",
    "    \n",
    "    ## action list\n",
    "    #actions = jrandom.randint(key1, shape=(nb_iter,1), minval=0, maxval=12)\n",
    "    actions = np.random.randint(0, 12, size=(nb_iter,1))\n",
    "    \n",
    "    ## state list\n",
    "    obs_list = []\n",
    "    \n",
    "    for q in range(nb_iter):\n",
    "        \n",
    "        obs, rew, done, _ = env.step(actions[q, 0])\n",
    "        obs_list.append(obs.copy())\n",
    "        \n",
    "        ## we should also compute the max of the model\n",
    "    \n",
    "    ### we compute the reverse action\n",
    "    \n",
    "    return jnp.array(obs_list), reverse_list(actions)"
   ]
  },
  {
   "cell_type": "code",
   "execution_count": null,
   "metadata": {},
   "outputs": [],
   "source": []
  },
  {
   "cell_type": "markdown",
   "metadata": {},
   "source": [
    "### testing part"
   ]
  },
  {
   "cell_type": "code",
   "execution_count": 278,
   "metadata": {},
   "outputs": [
    {
     "name": "stdout",
     "output_type": "stream",
     "text": [
      "CPU times: user 227 ms, sys: 50.3 ms, total: 278 ms\n",
      "Wall time: 275 ms\n"
     ]
    }
   ],
   "source": [
    "%%time\n",
    "## testing results\n",
    "encode_vector = encoder_one_hot_action(0)\n",
    "encoder_decode_action(encode_vector)\n",
    "\n",
    "encoded, encoded_hot = encoder_one_hot_state(obs)\n",
    "encoder_decode_state(encoded_hot)\n",
    "\n",
    "## computer result\n",
    "for i in range(10):\n",
    "    list_obs, actions = compute_random_suffle(0)"
   ]
  },
  {
   "cell_type": "markdown",
   "metadata": {},
   "source": [
    "### Generation part"
   ]
  },
  {
   "cell_type": "code",
   "execution_count": 279,
   "metadata": {},
   "outputs": [],
   "source": [
    "def flattenx(x):\n",
    "    return jnp.ravel(x)\n",
    "\n",
    "flatten_all = vmap(flattenx)\n",
    "\n",
    "def generate_dataset(nb_iter_main_loop=100):\n",
    "\n",
    "    actions_all = []\n",
    "    obs_all = []\n",
    "\n",
    "    for _ in range(nb_iter_main_loop):\n",
    "\n",
    "        # train on main loop\n",
    "        list_obs, actions = compute_random_suffle(0)\n",
    "\n",
    "        # process for training\n",
    "        actions_all.append(actions)\n",
    "        obs_all.append(list_obs)\n",
    "        \n",
    "    obs_all = jnp.concatenate(obs_all)\n",
    "    actions_all = jnp.concatenate(actions_all)\n",
    "    \n",
    "    obs_all, second = encoder_one_hot_state_vector(obs_all)\n",
    "    actions_all = encoder_one_hot_action_action(actions_all)\n",
    "        \n",
    "    return obs_all, actions_all"
   ]
  },
  {
   "cell_type": "code",
   "execution_count": 280,
   "metadata": {},
   "outputs": [
    {
     "name": "stdout",
     "output_type": "stream",
     "text": [
      "CPU times: user 1.27 s, sys: 149 ms, total: 1.42 s\n",
      "Wall time: 1.42 s\n"
     ]
    }
   ],
   "source": [
    "%%time\n",
    "obs_all, actions_all = generate_dataset()\n",
    "\n",
    "dataset = TensorDataset(torch.from_numpy(np.array(obs_all)), torch.from_numpy(np.array(actions_all)))\n",
    "dataloader = DataLoader(dataset, batch_size=32, shuffle=True)\n"
   ]
  },
  {
   "cell_type": "code",
   "execution_count": 281,
   "metadata": {},
   "outputs": [
    {
     "data": {
      "text/plain": [
       "'0.0.9'"
      ]
     },
     "execution_count": 281,
     "metadata": {},
     "output_type": "execute_result"
    }
   ],
   "source": [
    "optax.__version__"
   ]
  },
  {
   "cell_type": "markdown",
   "metadata": {},
   "source": [
    "### Optax optimization"
   ]
  },
  {
   "cell_type": "code",
   "execution_count": 283,
   "metadata": {},
   "outputs": [
    {
     "name": "stdout",
     "output_type": "stream",
     "text": [
      "CPU times: user 12.2 ms, sys: 10.1 ms, total: 22.3 ms\n",
      "Wall time: 19.2 ms\n"
     ]
    }
   ],
   "source": [
    "%%time\n",
    "\n",
    "from flax.training import train_state\n",
    "\n",
    "loss_hist = []\n",
    "\n",
    "optimizer = optax.adam(0.001)\n",
    "\n",
    "nb_epoch = 1\n",
    "nb_round_generation = 50\n",
    "size_generation = 10000\n",
    "\n",
    "# label smoothing\n",
    "smooth_vec = vmap(optax.smooth_labels, in_axes=(0, None))\n",
    "\n",
    "state = train_state.TrainState.create(\n",
    "      apply_fn=model_rubik.apply, params=params, tx=optimizer)\n",
    "\n",
    "\n",
    "@jax.jit\n",
    "def train_step(state, batch):\n",
    "    \"\"\"Train for a single step.\"\"\"\n",
    "    def loss_fn(params):\n",
    "        logits = model_rubik.apply({'params': params}, batch['rubik'])\n",
    "        actions_ = smooth_vec(batch['action'], 0.1)\n",
    "        loss = jnp.mean(\n",
    "            optax.softmax_cross_entropy(\n",
    "                logits=logits, labels=actions_))\n",
    "        return loss, logits\n",
    "    grad_fn = jax.value_and_grad(loss_fn, has_aux=True)\n",
    "    (_, logits), grads = grad_fn(state.params)\n",
    "    state = state.apply_gradients(grads=grads)\n",
    "    metrics = compute_metrics(logits=logits, labels=batch['action'])\n",
    "    return state, metrics\n",
    "\n",
    "def compute_metrics(logits, labels):\n",
    "    loss = jnp.mean(\n",
    "      optax.softmax_cross_entropy(\n",
    "          logits=logits, labels=labels))\n",
    "    accuracy = jnp.mean(jnp.argmax(logits, -1) == jnp.argmax(labels, -1))\n",
    "    metrics = {\n",
    "      'loss': loss,\n",
    "      'accuracy': accuracy,\n",
    "      }\n",
    "    return metrics\n"
   ]
  },
  {
   "cell_type": "code",
   "execution_count": 284,
   "metadata": {},
   "outputs": [
    {
     "name": "stdout",
     "output_type": "stream",
     "text": [
      "epoch\n",
      "CPU times: user 9min 33s, sys: 30.5 s, total: 10min 4s\n",
      "Wall time: 10min 5s\n"
     ]
    }
   ],
   "source": [
    "%%time\n",
    "\n",
    "loss_hist = []\n",
    "i = 0\n",
    "\n",
    "for q in range(nb_round_generation):\n",
    "\n",
    "    #print(\"New generation\")\n",
    "    \n",
    "    obs_all, actions_all = generate_dataset(size_generation)\n",
    "\n",
    "    dataset = TensorDataset(torch.from_numpy(np.array(obs_all)), torch.from_numpy(np.array(actions_all)))\n",
    "    dataloader = DataLoader(dataset, batch_size=64, shuffle=True)\n",
    "\n",
    "    for p in range(nb_epoch):\n",
    "        \n",
    "        print(\"epoch\")\n",
    "         \n",
    "        for obs, actions in dataloader:\n",
    "            \n",
    "            obs = jnp.array(obs)\n",
    "            actions = jnp.array(actions)\n",
    "            \n",
    "            batch = {}\n",
    "            batch['action'] = actions\n",
    "            batch['rubik'] = obs\n",
    "            \n",
    "            # optimizer application\n",
    "            state, metrics = train_step(state, batch)\n",
    "            \n",
    "            loss_hist.append(metrics['loss'].item())\n",
    "            #params = jax.lax.stop_gradient(params)\n",
    "            i += 1\n",
    "            \n",
    "            if (i % 100) == 0:\n",
    "                #print(i)\n",
    "                xla._xla_callable.cache_clear()\n",
    "                \n",
    "        #jax.profiler.save_device_memory_profile(f\"memory{p}_{q}.prof\")\n",
    "\n"
   ]
  },
  {
   "cell_type": "code",
   "execution_count": 285,
   "metadata": {},
   "outputs": [
    {
     "data": {
      "text/plain": [
       "[<matplotlib.lines.Line2D at 0x7f8652e47a60>]"
      ]
     },
     "execution_count": 285,
     "metadata": {},
     "output_type": "execute_result"
    },
    {
     "data": {
      "image/png": "[encoded data removed]",
      "text/plain": [
       "<Figure size 432x288 with 1 Axes>"
      ]
     },
     "metadata": {
      "needs_background": "light"
     },
     "output_type": "display_data"
    }
   ],
   "source": [
    "plt.plot(loss_hist)"
   ]
  },
  {
   "cell_type": "code",
   "execution_count": null,
   "metadata": {},
   "outputs": [],
   "source": []
  },
  {
   "cell_type": "code",
   "execution_count": 176,
   "metadata": {},
   "outputs": [],
   "source": [
    "for obs, actions in dataloader:\n",
    "    obs = jnp.array(obs)\n",
    "    actions = jnp.array(actions)"
   ]
  },
  {
   "cell_type": "code",
   "execution_count": 286,
   "metadata": {},
   "outputs": [
    {
     "data": {
      "text/plain": [
       "[<matplotlib.lines.Line2D at 0x7f8652e80730>]"
      ]
     },
     "execution_count": 286,
     "metadata": {},
     "output_type": "execute_result"
    },
    {
     "data": {
      "image/png": "[encoded data removed]",
      "text/plain": [
       "<Figure size 432x288 with 1 Axes>"
      ]
     },
     "metadata": {
      "needs_background": "light"
     },
     "output_type": "display_data"
    }
   ],
   "source": [
    "loss_hist_conv = np.convolve(loss_hist, np.ones(50)/50)\n",
    "plt.plot(loss_hist_conv)"
   ]
  },
  {
   "cell_type": "code",
   "execution_count": 177,
   "metadata": {},
   "outputs": [
    {
     "data": {
      "text/plain": [
       "[<matplotlib.lines.Line2D at 0x7f866f028e20>]"
      ]
     },
     "execution_count": 177,
     "metadata": {},
     "output_type": "execute_result"
    },
    {
     "data": {
      "image/png": "[encoded data removed]",
      "text/plain": [
       "<Figure size 432x288 with 1 Axes>"
      ]
     },
     "metadata": {
      "needs_background": "light"
     },
     "output_type": "display_data"
    }
   ],
   "source": [
    "loss_hist_conv = np.convolve(loss_hist, np.ones(50)/50)\n",
    "plt.plot(loss_hist_conv)"
   ]
  },
  {
   "cell_type": "markdown",
   "metadata": {},
   "source": [
    "### Testing performance for solving rubiks !!!!"
   ]
  },
  {
   "cell_type": "code",
   "execution_count": 262,
   "metadata": {},
   "outputs": [],
   "source": [
    "env.reset()\n",
    "\n",
    "state_goal = env.state.copy()"
   ]
  },
  {
   "cell_type": "code",
   "execution_count": 263,
   "metadata": {},
   "outputs": [],
   "source": [
    "## test to solve a rubiks\n",
    "obs, action = compute_random_suffle(0, nb_iter=10)"
   ]
  },
  {
   "cell_type": "code",
   "execution_count": 264,
   "metadata": {},
   "outputs": [],
   "source": [
    "begin_state = obs[-1, :, :, :]"
   ]
  },
  {
   "cell_type": "code",
   "execution_count": 265,
   "metadata": {},
   "outputs": [],
   "source": [
    "env.reset()\n",
    "env.set_init(np.array(begin_state))"
   ]
  },
  {
   "cell_type": "code",
   "execution_count": 266,
   "metadata": {},
   "outputs": [],
   "source": [
    "state_obs = begin_state\n",
    "flat_obs, noflat_obs = encoder_one_hot_state(state_obs)\n"
   ]
  },
  {
   "cell_type": "code",
   "execution_count": null,
   "metadata": {},
   "outputs": [],
   "source": [
    "\n",
    "count = 0\n",
    "while np.all(state_goal == np.array(state_obs)) == False and count < 50:\n",
    "    \n",
    "    action = jnp.argmax(model_rubik.apply({'params': state.params}, flat_obs)).item()\n",
    "    print(action)\n",
    "    state_obs, _, _, _= env.step(action)\n",
    "    flat_obs, noflat_obs = encoder_one_hot_state(state_obs)\n",
    "    count += 1\n",
    "    \n",
    "    \n",
    "    "
   ]
  },
  {
   "cell_type": "code",
   "execution_count": 260,
   "metadata": {},
   "outputs": [
    {
     "data": {
      "text/plain": [
       "array([[[1, 3, 1, 4, 4, 2],\n",
       "        [0, 1, 2, 5, 4, 2],\n",
       "        [3, 1, 5, 0, 1, 5]],\n",
       "\n",
       "       [[0, 1, 5, 4, 4, 5],\n",
       "        [0, 1, 2, 3, 4, 5],\n",
       "        [3, 1, 3, 1, 3, 5]],\n",
       "\n",
       "       [[0, 4, 2, 0, 3, 0],\n",
       "        [0, 3, 2, 2, 4, 0],\n",
       "        [5, 4, 3, 2, 2, 5]]], dtype=int32)"
      ]
     },
     "execution_count": 260,
     "metadata": {},
     "output_type": "execute_result"
    }
   ],
   "source": [
    "state_obs"
   ]
  },
  {
   "cell_type": "code",
   "execution_count": 261,
   "metadata": {},
   "outputs": [
    {
     "data": {
      "text/plain": [
       "DeviceArray([[[0, 4, 2, 5, 5, 4],\n",
       "              [0, 1, 3, 2, 4, 1],\n",
       "              [2, 3, 3, 1, 1, 2]],\n",
       "\n",
       "             [[0, 4, 3, 5, 2, 0],\n",
       "              [0, 1, 2, 3, 4, 5],\n",
       "              [5, 2, 5, 2, 3, 5]],\n",
       "\n",
       "             [[4, 1, 4, 0, 2, 3],\n",
       "              [1, 0, 4, 1, 4, 3],\n",
       "              [5, 5, 0, 3, 1, 0]]], dtype=int32)"
      ]
     },
     "execution_count": 261,
     "metadata": {},
     "output_type": "execute_result"
    }
   ],
   "source": [
    "begin_state"
   ]
  },
  {
   "cell_type": "code",
   "execution_count": 235,
   "metadata": {},
   "outputs": [
    {
     "data": {
      "text/plain": [
       "DeviceArray([-0.91152716, -0.66919905, -0.9995362 , -0.82847506,\n",
       "              0.20244782, -0.03418592, -1.0040965 , -0.46269053,\n",
       "             -0.6468259 ,  0.8760392 , -0.20079838, -0.50525284],            dtype=float32)"
      ]
     },
     "execution_count": 235,
     "metadata": {},
     "output_type": "execute_result"
    }
   ],
   "source": [
    "model_rubik.apply({'params': state.params}, flat_obs)"
   ]
  },
  {
   "cell_type": "code",
   "execution_count": 191,
   "metadata": {},
   "outputs": [
    {
     "name": "stdout",
     "output_type": "stream",
     "text": [
      "10\n",
      "[[[3 0 2 3 4 5]\n",
      "  [0 0 2 3 4 5]\n",
      "  [0 0 1 3 4 5]]\n",
      "\n",
      " [[3 1 2 3 4 5]\n",
      "  [0 1 2 3 4 5]\n",
      "  [0 1 1 3 4 5]]\n",
      "\n",
      " [[3 1 2 2 4 5]\n",
      "  [0 1 2 2 4 5]\n",
      "  [0 1 1 2 4 5]]]\n",
      "2\n",
      "[[[0 5 2 4 0 3]\n",
      "  [0 0 2 3 4 5]\n",
      "  [0 0 1 3 4 5]]\n",
      "\n",
      " [[0 5 2 4 1 3]\n",
      "  [0 1 2 3 4 5]\n",
      "  [0 1 1 3 4 5]]\n",
      "\n",
      " [[3 5 2 4 1 2]\n",
      "  [3 1 2 2 4 5]\n",
      "  [3 1 1 2 4 5]]]\n",
      "5\n",
      "[[[0 5 2 3 0 3]\n",
      "  [0 0 2 3 4 5]\n",
      "  [4 0 5 2 1 0]]\n",
      "\n",
      " [[0 5 2 3 1 3]\n",
      "  [0 1 2 3 4 5]\n",
      "  [4 1 5 2 1 0]]\n",
      "\n",
      " [[3 5 2 4 1 2]\n",
      "  [3 1 2 4 4 5]\n",
      "  [4 1 5 4 1 3]]]\n",
      "7\n",
      "[[[0 5 2 4 0 3]\n",
      "  [0 0 2 3 4 5]\n",
      "  [0 0 1 3 4 5]]\n",
      "\n",
      " [[0 5 2 4 1 3]\n",
      "  [0 1 2 3 4 5]\n",
      "  [0 1 1 3 4 5]]\n",
      "\n",
      " [[3 5 2 4 1 2]\n",
      "  [3 1 2 2 4 5]\n",
      "  [3 1 1 2 4 5]]]\n",
      "3\n",
      "[[[0 5 2 4 0 3]\n",
      "  [0 0 2 3 4 5]\n",
      "  [0 5 2 4 0 3]]\n",
      "\n",
      " [[0 5 2 4 1 3]\n",
      "  [0 1 2 3 4 5]\n",
      "  [0 5 2 4 1 3]]\n",
      "\n",
      " [[3 5 1 4 1 2]\n",
      "  [3 1 1 2 4 5]\n",
      "  [3 5 1 4 1 2]]]\n",
      "10\n",
      "[[[4 3 2 4 0 3]\n",
      "  [0 0 2 3 1 5]\n",
      "  [0 0 5 4 1 3]]\n",
      "\n",
      " [[2 5 2 4 4 3]\n",
      "  [0 1 2 3 4 5]\n",
      "  [0 5 0 4 4 3]]\n",
      "\n",
      " [[4 5 1 1 0 2]\n",
      "  [3 1 1 2 1 5]\n",
      "  [3 5 5 2 1 2]]]\n",
      "8\n",
      "[[[0 5 2 4 0 3]\n",
      "  [0 0 2 3 4 5]\n",
      "  [0 5 2 4 0 3]]\n",
      "\n",
      " [[0 5 2 4 1 3]\n",
      "  [0 1 2 3 4 5]\n",
      "  [0 5 2 4 1 3]]\n",
      "\n",
      " [[3 5 1 4 1 2]\n",
      "  [3 1 1 2 4 5]\n",
      "  [3 5 1 4 1 2]]]\n",
      "2\n",
      "[[[0 3 2 0 5 4]\n",
      "  [0 0 2 3 4 5]\n",
      "  [3 5 2 4 0 3]]\n",
      "\n",
      " [[0 3 2 1 5 4]\n",
      "  [0 1 2 3 4 5]\n",
      "  [3 5 2 4 1 3]]\n",
      "\n",
      " [[0 2 1 1 5 4]\n",
      "  [0 1 1 2 4 5]\n",
      "  [3 5 1 4 1 2]]]\n",
      "4\n",
      "[[[5 2 4 0 2 0]\n",
      "  [0 3 2 3 4 5]\n",
      "  [3 3 2 4 0 3]]\n",
      "\n",
      " [[5 1 4 1 2 0]\n",
      "  [0 1 2 3 4 5]\n",
      "  [3 0 2 4 1 3]]\n",
      "\n",
      " [[5 5 4 1 1 0]\n",
      "  [0 5 1 2 4 5]\n",
      "  [3 5 1 4 1 2]]]\n",
      "10\n",
      "[[[1 5 4 0 0 0]\n",
      "  [0 5 2 3 1 5]\n",
      "  [3 5 2 4 1 3]]\n",
      "\n",
      " [[2 1 4 1 4 0]\n",
      "  [0 1 2 3 4 5]\n",
      "  [3 0 3 4 4 3]]\n",
      "\n",
      " [[4 5 4 1 2 0]\n",
      "  [0 5 1 2 2 5]\n",
      "  [3 5 3 2 1 2]]]\n",
      "8\n",
      "[[[5 2 4 0 2 0]\n",
      "  [0 3 2 3 4 5]\n",
      "  [3 3 2 4 0 3]]\n",
      "\n",
      " [[5 1 4 1 2 0]\n",
      "  [0 1 2 3 4 5]\n",
      "  [3 0 2 4 1 3]]\n",
      "\n",
      " [[5 5 4 1 1 0]\n",
      "  [0 5 1 2 4 5]\n",
      "  [3 5 1 4 1 2]]]\n",
      "3\n",
      "[[[5 2 4 0 2 0]\n",
      "  [0 3 4 3 4 5]\n",
      "  [3 3 4 0 3 4]]\n",
      "\n",
      " [[5 1 1 1 2 0]\n",
      "  [0 1 2 3 4 5]\n",
      "  [3 3 2 1 0 4]]\n",
      "\n",
      " [[5 5 1 1 1 0]\n",
      "  [0 5 2 2 4 5]\n",
      "  [3 2 2 1 5 4]]]\n",
      "2\n",
      "[[[3 0 4 2 2 0]\n",
      "  [3 3 4 3 4 5]\n",
      "  [3 3 4 0 3 4]]\n",
      "\n",
      " [[0 0 1 2 1 1]\n",
      "  [0 1 2 3 4 5]\n",
      "  [0 3 2 1 0 4]]\n",
      "\n",
      " [[5 0 1 1 5 1]\n",
      "  [5 5 2 2 4 5]\n",
      "  [5 2 2 1 5 4]]]\n",
      "1\n",
      "[[[3 0 4 2 2 0]\n",
      "  [3 3 2 3 4 5]\n",
      "  [3 3 2 4 0 3]]\n",
      "\n",
      " [[0 0 4 2 1 1]\n",
      "  [0 1 2 3 4 5]\n",
      "  [0 0 2 4 1 3]]\n",
      "\n",
      " [[5 0 4 1 5 1]\n",
      "  [5 5 1 2 4 5]\n",
      "  [5 5 1 4 1 2]]]\n",
      "5\n",
      "[[[3 0 4 4 2 0]\n",
      "  [3 3 2 4 4 5]\n",
      "  [0 3 3 4 2 3]]\n",
      "\n",
      " [[0 0 4 3 1 1]\n",
      "  [0 1 2 3 4 5]\n",
      "  [1 0 3 2 2 0]]\n",
      "\n",
      " [[5 0 4 2 5 1]\n",
      "  [5 5 1 2 4 5]\n",
      "  [1 5 2 1 1 5]]]\n"
     ]
    }
   ],
   "source": [
    "env.reset()\n",
    "episode_rew = 0\n",
    "\n",
    "## action list\n",
    "#actions = jrandom.randint(key1, shape=(nb_iter,1), minval=0, maxval=12)\n",
    "actions = np.random.randint(0, 12, size=(nb_iter,1))\n",
    "\n",
    "## state list\n",
    "obs_list = []\n",
    "\n",
    "for q in range(nb_iter):\n",
    "\n",
    "    print(actions[q, 0])\n",
    "    obs, rew, done, _ = env.step(actions[q, 0])\n",
    "    obs_list.append(obs.copy())\n",
    "    print(obs)\n",
    "\n",
    "    ## we should also compute the max of the model\n",
    "\n",
    "### we compute the reverse action"
   ]
  },
  {
   "cell_type": "code",
   "execution_count": 153,
   "metadata": {},
   "outputs": [
    {
     "data": {
      "text/plain": [
       "array([[[0, 1, 2, 3, 4, 5],\n",
       "        [0, 1, 2, 3, 4, 5],\n",
       "        [0, 1, 2, 3, 4, 5]],\n",
       "\n",
       "       [[0, 1, 2, 3, 4, 5],\n",
       "        [0, 1, 2, 3, 4, 5],\n",
       "        [0, 1, 2, 3, 4, 5]],\n",
       "\n",
       "       [[0, 1, 2, 3, 4, 5],\n",
       "        [0, 1, 2, 3, 4, 5],\n",
       "        [0, 1, 2, 3, 4, 5]]], dtype=int32)"
      ]
     },
     "execution_count": 153,
     "metadata": {},
     "output_type": "execute_result"
    }
   ],
   "source": [
    "np.array(state_obs)"
   ]
  },
  {
   "cell_type": "code",
   "execution_count": 111,
   "metadata": {},
   "outputs": [
    {
     "data": {
      "text/plain": [
       "DeviceArray([[[[0, 1, 2, 3, 4, 5],\n",
       "               [0, 1, 2, 3, 4, 5],\n",
       "               [5, 1, 4, 3, 0, 2]],\n",
       "\n",
       "              [[0, 1, 2, 3, 4, 5],\n",
       "               [0, 1, 2, 3, 4, 5],\n",
       "               [5, 1, 4, 3, 0, 2]],\n",
       "\n",
       "              [[0, 1, 2, 3, 4, 5],\n",
       "               [0, 1, 2, 3, 4, 5],\n",
       "               [5, 1, 4, 3, 0, 2]]],\n",
       "\n",
       "\n",
       "             [[[3, 0, 2, 3, 0, 5],\n",
       "               [0, 0, 2, 3, 0, 5],\n",
       "               [5, 0, 1, 3, 0, 2]],\n",
       "\n",
       "              [[3, 1, 2, 3, 4, 5],\n",
       "               [0, 1, 2, 3, 4, 5],\n",
       "               [5, 1, 1, 3, 4, 2]],\n",
       "\n",
       "              [[3, 1, 2, 4, 4, 5],\n",
       "               [0, 1, 2, 4, 4, 5],\n",
       "               [5, 1, 1, 4, 4, 2]]],\n",
       "\n",
       "\n",
       "             [[[0, 1, 2, 3, 4, 5],\n",
       "               [0, 1, 2, 3, 4, 5],\n",
       "               [5, 1, 4, 3, 0, 2]],\n",
       "\n",
       "              [[0, 1, 2, 3, 4, 5],\n",
       "               [0, 1, 2, 3, 4, 5],\n",
       "               [5, 1, 4, 3, 0, 2]],\n",
       "\n",
       "              [[0, 1, 2, 3, 4, 5],\n",
       "               [0, 1, 2, 3, 4, 5],\n",
       "               [5, 1, 4, 3, 0, 2]]],\n",
       "\n",
       "\n",
       "             [[[0, 1, 2, 3, 4, 5],\n",
       "               [0, 1, 2, 3, 4, 5],\n",
       "               [5, 1, 4, 3, 0, 2]],\n",
       "\n",
       "              [[0, 1, 2, 3, 4, 5],\n",
       "               [0, 1, 2, 3, 4, 5],\n",
       "               [5, 1, 4, 3, 0, 2]],\n",
       "\n",
       "              [[0, 1, 2, 3, 4, 5],\n",
       "               [0, 1, 2, 3, 4, 5],\n",
       "               [5, 1, 4, 3, 0, 2]]],\n",
       "\n",
       "\n",
       "             [[[0, 1, 2, 3, 4, 5],\n",
       "               [0, 1, 2, 3, 4, 5],\n",
       "               [5, 1, 4, 3, 0, 2]],\n",
       "\n",
       "              [[0, 1, 2, 3, 4, 5],\n",
       "               [0, 1, 2, 3, 4, 5],\n",
       "               [5, 1, 4, 3, 0, 2]],\n",
       "\n",
       "              [[0, 1, 2, 3, 4, 5],\n",
       "               [0, 1, 2, 3, 4, 5],\n",
       "               [5, 1, 4, 3, 0, 2]]],\n",
       "\n",
       "\n",
       "             [[[1, 4, 2, 3, 4, 5],\n",
       "               [0, 4, 2, 3, 4, 5],\n",
       "               [5, 4, 3, 3, 4, 2]],\n",
       "\n",
       "              [[1, 1, 2, 3, 4, 5],\n",
       "               [0, 1, 2, 3, 4, 5],\n",
       "               [5, 1, 3, 3, 4, 2]],\n",
       "\n",
       "              [[1, 1, 2, 0, 0, 5],\n",
       "               [0, 1, 2, 0, 0, 5],\n",
       "               [5, 1, 3, 0, 0, 2]]],\n",
       "\n",
       "\n",
       "             [[[1, 4, 2, 3, 4, 5],\n",
       "               [0, 4, 2, 3, 4, 5],\n",
       "               [5, 4, 3, 3, 4, 2]],\n",
       "\n",
       "              [[1, 1, 2, 3, 4, 5],\n",
       "               [0, 1, 2, 3, 4, 5],\n",
       "               [5, 1, 3, 3, 4, 2]],\n",
       "\n",
       "              [[1, 1, 2, 0, 0, 5],\n",
       "               [0, 1, 2, 0, 0, 5],\n",
       "               [5, 1, 3, 0, 0, 2]]],\n",
       "\n",
       "\n",
       "             [[[1, 4, 2, 3, 4, 5],\n",
       "               [0, 4, 2, 3, 4, 5],\n",
       "               [5, 2, 2, 4, 4, 3]],\n",
       "\n",
       "              [[1, 1, 2, 3, 4, 5],\n",
       "               [0, 1, 2, 3, 4, 5],\n",
       "               [5, 2, 2, 4, 1, 3]],\n",
       "\n",
       "              [[1, 1, 3, 0, 0, 5],\n",
       "               [0, 1, 3, 0, 0, 5],\n",
       "               [5, 2, 3, 0, 1, 0]]],\n",
       "\n",
       "\n",
       "             [[[1, 4, 2, 3, 4, 5],\n",
       "               [0, 4, 2, 3, 4, 5],\n",
       "               [5, 2, 2, 4, 4, 3]],\n",
       "\n",
       "              [[1, 1, 2, 3, 4, 5],\n",
       "               [0, 1, 2, 3, 4, 5],\n",
       "               [5, 2, 2, 4, 1, 3]],\n",
       "\n",
       "              [[1, 1, 3, 0, 0, 5],\n",
       "               [0, 1, 3, 0, 0, 5],\n",
       "               [5, 2, 3, 0, 1, 0]]],\n",
       "\n",
       "\n",
       "             [[[1, 4, 1, 3, 4, 5],\n",
       "               [0, 4, 2, 2, 4, 5],\n",
       "               [3, 2, 2, 2, 4, 5]],\n",
       "\n",
       "              [[1, 1, 1, 3, 4, 5],\n",
       "               [0, 1, 2, 3, 4, 5],\n",
       "               [3, 2, 2, 4, 1, 5]],\n",
       "\n",
       "              [[1, 5, 2, 0, 0, 0],\n",
       "               [0, 5, 3, 0, 0, 3],\n",
       "               [4, 5, 3, 0, 1, 3]]],\n",
       "\n",
       "\n",
       "             [[[3, 5, 1, 4, 4, 3],\n",
       "               [3, 4, 2, 2, 4, 5],\n",
       "               [4, 2, 2, 2, 4, 5]],\n",
       "\n",
       "              [[0, 5, 1, 4, 1, 3],\n",
       "               [0, 1, 2, 3, 4, 5],\n",
       "               [0, 2, 2, 4, 1, 5]],\n",
       "\n",
       "              [[1, 0, 2, 0, 5, 0],\n",
       "               [1, 5, 3, 0, 0, 3],\n",
       "               [1, 5, 3, 0, 1, 3]]],\n",
       "\n",
       "\n",
       "             [[[3, 5, 1, 4, 4, 3],\n",
       "               [3, 4, 2, 2, 4, 5],\n",
       "               [4, 2, 2, 2, 4, 5]],\n",
       "\n",
       "              [[0, 5, 1, 4, 1, 3],\n",
       "               [0, 1, 2, 3, 4, 5],\n",
       "               [0, 2, 2, 4, 1, 5]],\n",
       "\n",
       "              [[1, 0, 2, 0, 5, 0],\n",
       "               [1, 5, 3, 0, 0, 3],\n",
       "               [1, 5, 3, 0, 1, 3]]],\n",
       "\n",
       "\n",
       "             [[[4, 3, 1, 4, 5, 4],\n",
       "               [0, 4, 2, 2, 4, 5],\n",
       "               [1, 2, 2, 2, 4, 5]],\n",
       "\n",
       "              [[3, 3, 1, 1, 5, 4],\n",
       "               [0, 1, 2, 3, 4, 5],\n",
       "               [1, 2, 2, 4, 1, 5]],\n",
       "\n",
       "              [[3, 0, 2, 5, 0, 0],\n",
       "               [0, 5, 3, 0, 0, 3],\n",
       "               [1, 5, 3, 0, 1, 3]]],\n",
       "\n",
       "\n",
       "             [[[3, 5, 1, 4, 4, 3],\n",
       "               [3, 4, 2, 2, 4, 5],\n",
       "               [4, 2, 2, 2, 4, 5]],\n",
       "\n",
       "              [[0, 5, 1, 4, 1, 3],\n",
       "               [0, 1, 2, 3, 4, 5],\n",
       "               [0, 2, 2, 4, 1, 5]],\n",
       "\n",
       "              [[1, 0, 2, 0, 5, 0],\n",
       "               [1, 5, 3, 0, 0, 3],\n",
       "               [1, 5, 3, 0, 1, 3]]],\n",
       "\n",
       "\n",
       "             [[[3, 5, 1, 4, 4, 3],\n",
       "               [3, 4, 2, 2, 4, 5],\n",
       "               [4, 2, 2, 2, 4, 5]],\n",
       "\n",
       "              [[0, 5, 1, 4, 1, 3],\n",
       "               [0, 1, 2, 3, 4, 5],\n",
       "               [0, 2, 2, 4, 1, 5]],\n",
       "\n",
       "              [[1, 0, 2, 0, 5, 0],\n",
       "               [1, 5, 3, 0, 0, 3],\n",
       "               [1, 5, 3, 0, 1, 3]]]], dtype=int32)"
      ]
     },
     "execution_count": 111,
     "metadata": {},
     "output_type": "execute_result"
    }
   ],
   "source": [
    "obs"
   ]
  },
  {
   "cell_type": "code",
   "execution_count": null,
   "metadata": {},
   "outputs": [],
   "source": []
  },
  {
   "cell_type": "code",
   "execution_count": 24,
   "metadata": {},
   "outputs": [],
   "source": [
    "\n",
    "pickle.dump(state.params, open( \"save_state.p\", \"wb\" ) )"
   ]
  },
  {
   "cell_type": "code",
   "execution_count": 60,
   "metadata": {},
   "outputs": [],
   "source": [
    "params = pickle.load(open( \"save_state.p\", \"rb\" ))"
   ]
  },
  {
   "cell_type": "code",
   "execution_count": 59,
   "metadata": {},
   "outputs": [
    {
     "ename": "AttributeError",
     "evalue": "'FrozenDict' object has no attribute 'params'",
     "output_type": "error",
     "traceback": [
      "\u001b[0;31m---------------------------------------------------------------------------\u001b[0m",
      "\u001b[0;31mAttributeError\u001b[0m                            Traceback (most recent call last)",
      "\u001b[0;32m<ipython-input-59-c64b2bea8656>\u001b[0m in \u001b[0;36m<module>\u001b[0;34m\u001b[0m\n\u001b[0;32m----> 1\u001b[0;31m \u001b[0mstate\u001b[0m\u001b[0;34m.\u001b[0m\u001b[0mparams\u001b[0m\u001b[0;34m\u001b[0m\u001b[0;34m\u001b[0m\u001b[0m\n\u001b[0m",
      "\u001b[0;31mAttributeError\u001b[0m: 'FrozenDict' object has no attribute 'params'"
     ]
    }
   ],
   "source": []
  },
  {
   "cell_type": "code",
   "execution_count": 269,
   "metadata": {},
   "outputs": [
    {
     "data": {
      "text/plain": [
       "FrozenDict({\n",
       "    dense1: {\n",
       "        kernel: DeviceArray([[-0.05093232,  0.11292301,  0.04601007, ...,  0.05208289,\n",
       "                       0.06190478,  0.01842474],\n",
       "                     [ 0.11048467,  0.05674934, -0.02604354, ..., -0.00837327,\n",
       "                      -0.02193409, -0.06393798],\n",
       "                     [ 0.08616043,  0.03852337,  0.09786686, ..., -0.04590243,\n",
       "                       0.06853528,  0.04626644],\n",
       "                     ...,\n",
       "                     [ 0.01166973, -0.0413083 , -0.01211753, ...,  0.06191629,\n",
       "                       0.05581719,  0.0184365 ],\n",
       "                     [ 0.05791316,  0.02043094, -0.03105362, ..., -0.00540538,\n",
       "                       0.04283681, -0.03154251],\n",
       "                     [ 0.01450084,  0.0891478 ,  0.05460834, ..., -0.02900994,\n",
       "                       0.03112084,  0.02889051]], dtype=float32),\n",
       "        bias: DeviceArray([0., 0., 0., ..., 0., 0., 0.], dtype=float32),\n",
       "    },\n",
       "    dense2: {\n",
       "        kernel: DeviceArray([[ 0.024519  ,  0.0044371 , -0.01443188, ...,  0.03290512,\n",
       "                       0.02068541,  0.01056079],\n",
       "                     [ 0.00558253,  0.00853681,  0.00989831, ...,  0.04540662,\n",
       "                      -0.04633869, -0.01543411],\n",
       "                     [ 0.00461101, -0.02989039, -0.00333857, ..., -0.00600532,\n",
       "                      -0.01676932,  0.02504037],\n",
       "                     ...,\n",
       "                     [ 0.02717931,  0.0158908 ,  0.02363545, ..., -0.00411094,\n",
       "                      -0.0079399 ,  0.00613282],\n",
       "                     [ 0.02182462, -0.04263159, -0.0266958 , ..., -0.00890484,\n",
       "                       0.02053017,  0.03410197],\n",
       "                     [-0.01266967,  0.01301828, -0.0431422 , ..., -0.00649843,\n",
       "                      -0.03848323, -0.01220773]], dtype=float32),\n",
       "        bias: DeviceArray([0., 0., 0., 0., 0., 0., 0., 0., 0., 0., 0., 0., 0., 0., 0.,\n",
       "                     0., 0., 0., 0., 0., 0., 0., 0., 0., 0., 0., 0., 0., 0., 0.,\n",
       "                     0., 0., 0., 0., 0., 0., 0., 0., 0., 0., 0., 0., 0., 0., 0.,\n",
       "                     0., 0., 0., 0., 0., 0., 0., 0., 0., 0., 0., 0., 0., 0., 0.,\n",
       "                     0., 0., 0., 0., 0., 0., 0., 0., 0., 0., 0., 0., 0., 0., 0.,\n",
       "                     0., 0., 0., 0., 0., 0., 0., 0., 0., 0., 0., 0., 0., 0., 0.,\n",
       "                     0., 0., 0., 0., 0., 0., 0., 0., 0., 0., 0., 0., 0., 0., 0.,\n",
       "                     0., 0., 0., 0., 0., 0., 0., 0., 0., 0., 0., 0., 0., 0., 0.,\n",
       "                     0., 0., 0., 0., 0., 0., 0., 0., 0., 0., 0., 0., 0., 0., 0.,\n",
       "                     0., 0., 0., 0., 0., 0., 0., 0., 0., 0., 0., 0., 0., 0., 0.,\n",
       "                     0., 0., 0., 0., 0., 0., 0., 0., 0., 0., 0., 0., 0., 0., 0.,\n",
       "                     0., 0., 0., 0., 0., 0., 0., 0., 0., 0., 0., 0., 0., 0., 0.,\n",
       "                     0., 0., 0., 0., 0., 0., 0., 0., 0., 0., 0., 0., 0., 0., 0.,\n",
       "                     0., 0., 0., 0., 0., 0., 0., 0., 0., 0., 0., 0., 0., 0., 0.,\n",
       "                     0., 0., 0., 0., 0., 0., 0., 0., 0., 0., 0., 0., 0., 0., 0.,\n",
       "                     0., 0., 0., 0., 0., 0., 0., 0., 0., 0., 0., 0., 0., 0., 0.,\n",
       "                     0., 0., 0., 0., 0., 0., 0., 0., 0., 0., 0., 0., 0., 0., 0.,\n",
       "                     0., 0., 0., 0., 0., 0., 0., 0., 0., 0., 0., 0., 0., 0., 0.,\n",
       "                     0., 0., 0., 0., 0., 0., 0., 0., 0., 0., 0., 0., 0., 0., 0.,\n",
       "                     0., 0., 0., 0., 0., 0., 0., 0., 0., 0., 0., 0., 0., 0., 0.,\n",
       "                     0., 0., 0., 0., 0., 0., 0., 0., 0., 0., 0., 0., 0., 0., 0.,\n",
       "                     0., 0., 0., 0., 0., 0., 0., 0., 0., 0., 0., 0., 0., 0., 0.,\n",
       "                     0., 0., 0., 0., 0., 0., 0., 0., 0., 0., 0., 0., 0., 0., 0.,\n",
       "                     0., 0., 0., 0., 0., 0., 0., 0., 0., 0., 0., 0., 0., 0., 0.,\n",
       "                     0., 0., 0., 0., 0., 0., 0., 0., 0., 0., 0., 0., 0., 0., 0.,\n",
       "                     0., 0., 0., 0., 0., 0., 0., 0., 0., 0., 0., 0., 0., 0., 0.,\n",
       "                     0., 0., 0., 0., 0., 0., 0., 0., 0., 0., 0., 0., 0., 0., 0.,\n",
       "                     0., 0., 0., 0., 0., 0., 0., 0., 0., 0., 0., 0., 0., 0., 0.,\n",
       "                     0., 0., 0., 0., 0., 0., 0., 0., 0., 0., 0., 0., 0., 0., 0.,\n",
       "                     0., 0., 0., 0., 0., 0., 0., 0., 0., 0., 0., 0., 0., 0., 0.,\n",
       "                     0., 0., 0., 0., 0., 0., 0., 0., 0., 0., 0., 0., 0., 0., 0.,\n",
       "                     0., 0., 0., 0., 0., 0., 0., 0., 0., 0., 0., 0., 0., 0., 0.,\n",
       "                     0., 0., 0., 0., 0., 0., 0., 0., 0., 0., 0., 0., 0., 0., 0.,\n",
       "                     0., 0., 0., 0., 0., 0., 0., 0., 0., 0., 0., 0., 0., 0., 0.,\n",
       "                     0., 0.], dtype=float32),\n",
       "    },\n",
       "    dense3: {\n",
       "        kernel: DeviceArray([[ 0.03753396, -0.0741317 , -0.01689807, ...,  0.03024534,\n",
       "                      -0.01391217,  0.033247  ],\n",
       "                     [ 0.01859068, -0.00902869, -0.08907614, ...,  0.03030826,\n",
       "                      -0.07959891, -0.01307292],\n",
       "                     [-0.03600731,  0.00046696, -0.04748253, ..., -0.07433149,\n",
       "                      -0.01739848, -0.02699579],\n",
       "                     ...,\n",
       "                     [ 0.02067151, -0.04167991,  0.02112593, ..., -0.02934635,\n",
       "                      -0.06636643, -0.06029022],\n",
       "                     [-0.07577115, -0.04674524,  0.00048573, ..., -0.0591056 ,\n",
       "                       0.03183692, -0.00276941],\n",
       "                     [-0.01467997, -0.06903099, -0.06153898, ..., -0.03271812,\n",
       "                       0.01794947, -0.0252728 ]], dtype=float32),\n",
       "        bias: DeviceArray([0., 0., 0., 0., 0., 0., 0., 0., 0., 0., 0., 0.], dtype=float32),\n",
       "    },\n",
       "})"
      ]
     },
     "execution_count": 269,
     "metadata": {},
     "output_type": "execute_result"
    }
   ],
   "source": [
    "params"
   ]
  },
  {
   "cell_type": "code",
   "execution_count": 30,
   "metadata": {},
   "outputs": [
    {
     "data": {
      "text/plain": [
       "1048576"
      ]
     },
     "execution_count": 30,
     "metadata": {},
     "output_type": "execute_result"
    }
   ],
   "source": []
  }
 ],
 "metadata": {
  "kernelspec": {
   "display_name": "Python 3.9.13 64-bit (windows store)",
   "language": "python",
   "name": "python3"
  },
  "language_info": {
   "codemirror_mode": {
    "name": "ipython",
    "version": 3
   },
   "file_extension": ".py",
   "mimetype": "text/x-python",
   "name": "python",
   "nbconvert_exporter": "python",
   "pygments_lexer": "ipython3",
   "version": "3.9.13"
  },
  "vscode": {
   "interpreter": {
    "hash": "6af1404867671eaafe95b859d19a58bcea21dcb06b344bfc489d9ab9008febd0"
   }
  }
 },
 "nbformat": 4,
 "nbformat_minor": 4
}
