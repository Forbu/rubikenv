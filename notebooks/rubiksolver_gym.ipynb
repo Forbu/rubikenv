{
 "cells": [
  {
   "cell_type": "code",
   "execution_count": 8,
   "metadata": {},
   "outputs": [
    {
     "name": "stderr",
     "output_type": "stream",
     "text": [
      "/opt/conda/lib/python3.8/site-packages/jax/_src/config.py:163: UserWarning: enable_omnistaging() is a no-op in JAX versions 0.2.12 and higher;\n",
      "see https://github.com/google/jax/blob/main/design_notes/omnistaging.md\n",
      "  warnings.warn(\n"
     ]
    }
   ],
   "source": [
    "from flax import optim\n",
    "import jax\n",
    "from typing import Any, Callable, Sequence, Optional\n",
    "from jax import lax, numpy as jnp\n",
    "from jax import vmap, jit\n",
    "import jax.random as jrandom\n",
    "\n",
    "from flax import optim\n",
    "import flax\n",
    "from flax.core import freeze, unfreeze\n",
    "from flax import linen as nn\n",
    "\n",
    "import optax\n",
    "from optax import softmax_cross_entropy\n",
    "import numpy as np\n",
    "\n",
    "from jax.config import config\n",
    "config.enable_omnistaging() # Linen requires enabling omnistaging\n",
    "\n",
    "import collections\n",
    "\n",
    "from torch.utils.data import DataLoader\n",
    "from torch.utils.data import TensorDataset\n",
    "import torch\n",
    "\n",
    "import cProfile\n",
    "from memory_profiler import profile\n",
    "import jax.profiler\n",
    "\n",
    "import gc\n",
    "gc.enable()\n",
    "\n",
    "import matplotlib.pyplot as plt\n",
    "%matplotlib inline"
   ]
  },
  {
   "cell_type": "code",
   "execution_count": 9,
   "metadata": {},
   "outputs": [
    {
     "name": "stdout",
     "output_type": "stream",
     "text": [
      "The memory_profiler extension is already loaded. To reload it, use:\n",
      "  %reload_ext memory_profiler\n"
     ]
    }
   ],
   "source": [
    "%load_ext memory_profiler"
   ]
  },
  {
   "cell_type": "code",
   "execution_count": 10,
   "metadata": {},
   "outputs": [],
   "source": [
    "import rubikenv"
   ]
  },
  {
   "cell_type": "code",
   "execution_count": 11,
   "metadata": {},
   "outputs": [],
   "source": [
    "import rubikenv.rubikgym as rb"
   ]
  },
  {
   "cell_type": "code",
   "execution_count": 12,
   "metadata": {},
   "outputs": [
    {
     "name": "stdout",
     "output_type": "stream",
     "text": [
      "[[[0 1 2 3 4 5]\n",
      "  [0 1 2 3 4 5]\n",
      "  [0 1 2 3 4 5]]\n",
      "\n",
      " [[0 1 2 3 4 5]\n",
      "  [0 1 2 3 4 5]\n",
      "  [0 1 2 3 4 5]]\n",
      "\n",
      " [[0 1 2 3 4 5]\n",
      "  [0 1 2 3 4 5]\n",
      "  [0 1 2 3 4 5]]]\n"
     ]
    }
   ],
   "source": [
    "rubik = rb.rubikgym()\n",
    "rubik.render()\n"
   ]
  },
  {
   "cell_type": "code",
   "execution_count": 13,
   "metadata": {},
   "outputs": [
    {
     "name": "stdout",
     "output_type": "stream",
     "text": [
      "[[[4 1 5 3 2 0]\n",
      "  [0 1 2 3 4 5]\n",
      "  [0 1 2 3 4 5]]\n",
      "\n",
      " [[4 1 5 3 2 0]\n",
      "  [0 1 2 3 4 5]\n",
      "  [0 1 2 3 4 5]]\n",
      "\n",
      " [[4 1 5 3 2 0]\n",
      "  [0 1 2 3 4 5]\n",
      "  [0 1 2 3 4 5]]]\n"
     ]
    }
   ],
   "source": [
    "rubik.step(4)\n",
    "rubik.render()"
   ]
  },
  {
   "cell_type": "code",
   "execution_count": 14,
   "metadata": {},
   "outputs": [
    {
     "name": "stdout",
     "output_type": "stream",
     "text": [
      "[[[0 1 2 3 4 5]\n",
      "  [0 1 2 3 4 5]\n",
      "  [0 1 2 3 4 5]]\n",
      "\n",
      " [[0 1 2 3 4 5]\n",
      "  [0 1 2 3 4 5]\n",
      "  [0 1 2 3 4 5]]\n",
      "\n",
      " [[0 1 2 3 4 5]\n",
      "  [0 1 2 3 4 5]\n",
      "  [0 1 2 3 4 5]]]\n"
     ]
    }
   ],
   "source": [
    "rubik.step(6)\n",
    "rubik.render()"
   ]
  },
  {
   "cell_type": "code",
   "execution_count": 68,
   "metadata": {},
   "outputs": [
    {
     "name": "stdout",
     "output_type": "stream",
     "text": [
      "CPU times: user 5.19 ms, sys: 0 ns, total: 5.19 ms\n",
      "Wall time: 2.79 ms\n"
     ]
    }
   ],
   "source": [
    "%%time\n",
    "env = rb.rubikgym()\n",
    "obs, done = env.reset(), False\n",
    "episode_rew = 0\n",
    "nb_iter = 14\n",
    "\n",
    "## action list\n",
    "#actions = jrandom.randint(key1, shape=(nb_iter,1), minval=0, maxval=12)\n",
    "actions = np.random.randint(0, 12, size=(nb_iter,1))\n",
    "\n",
    "## state list\n",
    "obs_list = []\n",
    "\n",
    "for q in range(nb_iter):\n",
    "\n",
    "    obs, rew, done, _ = env.step(actions[q, 0])\n",
    "    obs_list.append(obs)\n",
    "    \n",
    "    "
   ]
  },
  {
   "cell_type": "code",
   "execution_count": 88,
   "metadata": {},
   "outputs": [],
   "source": [
    "## First we can try to solve it using \"classic machine learning\"\n",
    "## conversion action => on hot encoder\n",
    "\n",
    "from flax import linen as nn\n",
    "\n",
    "class Model_rubik(nn.Module):\n",
    "\n",
    "    features = (2048, 512, 12)\n",
    "\n",
    "    def setup(self):\n",
    "        self.dense1 = nn.Dense(self.features[0])\n",
    "        self.dense2 = nn.Dense(self.features[1])\n",
    "        self.dense3 = nn.Dense(self.features[2])\n",
    "\n",
    "    def __call__(self, x):\n",
    "        x = nn.relu(self.dense1(x))\n",
    "        x = nn.relu(self.dense2(x))\n",
    "        x = self.dense3(x)\n",
    "        return x\n",
    "\n",
    "model_rubik = Model_rubik()\n",
    "    \n",
    "key1, key2 = jrandom.split(jrandom.PRNGKey(0))\n",
    "x = jrandom.normal(key1, (54*6,)) # Dummy input\n",
    "params = model_rubik.init(key2, x) # Initialization call\n",
    "    \n",
    "#### action help\n",
    "def encoder_one_hot_action(action):\n",
    "    \"\"\"\n",
    "    Encode the action into a one hot encoder vector\n",
    "    \"\"\"\n",
    "    \n",
    "    action_encode = jnp.zeros(12)\n",
    "    action_encode = jax.ops.index_update(action_encode, jax.ops.index[action], 1)\n",
    "\n",
    "    return action_encode\n",
    "\n",
    "def encoder_decode_action(action_encode):\n",
    "    \"\"\"\n",
    "    Decode from one hot to int value\n",
    "    \"\"\"\n",
    "    action = jnp.argmax(action_encode)\n",
    "    \n",
    "    return action\n",
    "\n",
    "#### state help\n",
    "def encoder_one_hot_state(state):\n",
    "    \"\"\"\n",
    "    Encode the action into a one hot encoder vector\n",
    "    \"\"\"\n",
    "    \n",
    "    state = jnp.array(state)\n",
    "    state = jnp.ravel(state)\n",
    "    \n",
    "    state_encode = jnp.zeros((54, 6))\n",
    "    \n",
    "    for idx, i in enumerate(state):\n",
    "        state_encode = jax.ops.index_update(state_encode, jax.ops.index[idx, i], 1)\n",
    "\n",
    "    return jnp.ravel(state_encode), state_encode\n",
    "\n",
    "def encoder_decode_state(state_encode):\n",
    "    \"\"\"\n",
    "    Decode from one hot to int value\n",
    "    \"\"\"\n",
    "    state = jnp.argmax(state_encode, axis=1)\n",
    "    \n",
    "    return state\n",
    "\n",
    "def compute_inverse_action(action):\n",
    "    pos = (action // 4) \n",
    "    inv_pos = (action - pos*4)\n",
    "    inv_pos_new = (inv_pos  + 2) % 4\n",
    "    \n",
    "    return pos*4 + inv_pos_new \n",
    "\n",
    "reverse_list = vmap(compute_inverse_action)\n",
    "\n",
    "encoder_one_hot_action_action = vmap(encoder_one_hot_action)\n",
    "encoder_one_hot_state_vector = vmap(encoder_one_hot_state)\n",
    "\n",
    "nb_iter = 15\n",
    "\n",
    "def compute_random_suffle(dumpy_value):\n",
    "    \n",
    "    env.reset()\n",
    "    episode_rew = 0\n",
    "    \n",
    "    ## action list\n",
    "    #actions = jrandom.randint(key1, shape=(nb_iter,1), minval=0, maxval=12)\n",
    "    actions = np.random.randint(0, 12, size=(nb_iter,1))\n",
    "    \n",
    "    ## state list\n",
    "    obs_list = []\n",
    "    \n",
    "    for q in range(nb_iter):\n",
    "        \n",
    "        obs, rew, done, _ = env.step(actions[q, 0])\n",
    "        obs_list.append(obs.copy())\n",
    "        \n",
    "        ## we should also compute the max of the model\n",
    "    \n",
    "    ### we compute the reverse action\n",
    "    \n",
    "    return jnp.array(obs_list), reverse_list(actions)"
   ]
  },
  {
   "cell_type": "code",
   "execution_count": 97,
   "metadata": {},
   "outputs": [
    {
     "data": {
      "text/plain": [
       "35831808"
      ]
     },
     "execution_count": 97,
     "metadata": {},
     "output_type": "execute_result"
    }
   ],
   "source": []
  },
  {
   "cell_type": "markdown",
   "metadata": {},
   "source": [
    "### testing part"
   ]
  },
  {
   "cell_type": "code",
   "execution_count": 89,
   "metadata": {},
   "outputs": [
    {
     "name": "stdout",
     "output_type": "stream",
     "text": [
      "CPU times: user 255 ms, sys: 16 ms, total: 271 ms\n",
      "Wall time: 335 ms\n"
     ]
    }
   ],
   "source": [
    "%%time\n",
    "## testing results\n",
    "encode_vector = encoder_one_hot_action(0)\n",
    "encoder_decode_action(encode_vector)\n",
    "\n",
    "encoded, encoded_hot = encoder_one_hot_state(obs)\n",
    "encoder_decode_state(encoded_hot)\n",
    "\n",
    "## computer result\n",
    "for i in range(10):\n",
    "    list_obs, actions = compute_random_suffle(0)"
   ]
  },
  {
   "cell_type": "markdown",
   "metadata": {},
   "source": [
    "### Generation part"
   ]
  },
  {
   "cell_type": "code",
   "execution_count": 11,
   "metadata": {},
   "outputs": [],
   "source": [
    "def flattenx(x):\n",
    "    return jnp.ravel(x)\n",
    "\n",
    "flatten_all = vmap(flattenx)\n",
    "\n",
    "def generate_dataset(nb_iter_main_loop=100):\n",
    "\n",
    "    actions_all = []\n",
    "    obs_all = []\n",
    "\n",
    "    for _ in range(nb_iter_main_loop):\n",
    "\n",
    "        # train on main loop\n",
    "        list_obs, actions = compute_random_suffle(0)\n",
    "\n",
    "        # process for training\n",
    "        actions_all.append(actions)\n",
    "        obs_all.append(list_obs)\n",
    "        \n",
    "    obs_all = jnp.concatenate(obs_all)\n",
    "    actions_all = jnp.concatenate(actions_all)\n",
    "    \n",
    "    obs_all, second = encoder_one_hot_state_vector(obs_all)\n",
    "    actions_all = encoder_one_hot_action_action(actions_all)\n",
    "        \n",
    "    return obs_all, actions_all"
   ]
  },
  {
   "cell_type": "code",
   "execution_count": 12,
   "metadata": {},
   "outputs": [
    {
     "name": "stdout",
     "output_type": "stream",
     "text": [
      "CPU times: user 1.88 s, sys: 69.5 ms, total: 1.95 s\n",
      "Wall time: 1.95 s\n"
     ]
    }
   ],
   "source": [
    "%%time\n",
    "obs_all, actions_all = generate_dataset()\n",
    "\n",
    "dataset = TensorDataset(torch.from_numpy(np.array(obs_all)), torch.from_numpy(np.array(actions_all)))\n",
    "dataloader = DataLoader(dataset, batch_size=32, shuffle=True)\n"
   ]
  },
  {
   "cell_type": "code",
   "execution_count": 13,
   "metadata": {},
   "outputs": [
    {
     "data": {
      "text/plain": [
       "'0.0.8'"
      ]
     },
     "execution_count": 13,
     "metadata": {},
     "output_type": "execute_result"
    }
   ],
   "source": [
    "optax.__version__"
   ]
  },
  {
   "cell_type": "markdown",
   "metadata": {},
   "source": [
    "### Optax optimization"
   ]
  },
  {
   "cell_type": "code",
   "execution_count": 16,
   "metadata": {},
   "outputs": [
    {
     "name": "stdout",
     "output_type": "stream",
     "text": [
      "CPU times: user 14.7 ms, sys: 0 ns, total: 14.7 ms\n",
      "Wall time: 13.3 ms\n"
     ]
    }
   ],
   "source": [
    "%%time\n",
    "loss_hist = []\n",
    "\n",
    "optimizer = optax.adam(0.001)\n",
    "opt_state = optimizer.init(params)\n",
    "\n",
    "nb_epoch = 1\n",
    "nb_round_generation = 20\n",
    "size_generation = 10000\n",
    "\n",
    "# label smoothing\n",
    "smooth_vec = vmap(optax.smooth_labels, in_axes=(0, None))\n",
    "\n",
    "# cross entropy logit accelearation\n",
    "softmax_logit = vmap(optax.softmax_cross_entropy)\n",
    "\n",
    "def loss_fn(params_, obs_, actions_):\n",
    "    \n",
    "    pred =  model_rubik.apply(params_, obs_)\n",
    "    \n",
    "    actions_ = smooth_vec(actions_, 0.1)\n",
    "    \n",
    "    error = softmax_logit(pred, actions_)\n",
    "    loss = jnp.mean(error)\n",
    "    return loss\n",
    "\n",
    "loss_grad_fn = jax.value_and_grad(loss_fn, argnums=0)\n",
    "i = 0       "
   ]
  },
  {
   "cell_type": "code",
   "execution_count": 17,
   "metadata": {},
   "outputs": [
    {
     "name": "stdout",
     "output_type": "stream",
     "text": [
      "New generation\n",
      "epoch\n",
      "New generation\n",
      "epoch\n",
      "New generation\n",
      "epoch\n",
      "New generation\n",
      "epoch\n",
      "New generation\n",
      "epoch\n",
      "New generation\n",
      "epoch\n",
      "New generation\n",
      "epoch\n",
      "New generation\n",
      "epoch\n",
      "New generation\n",
      "epoch\n",
      "New generation\n",
      "epoch\n",
      "New generation\n",
      "epoch\n",
      "New generation\n",
      "epoch\n",
      "New generation\n",
      "epoch\n",
      "New generation\n",
      "epoch\n",
      "New generation\n",
      "epoch\n",
      "New generation\n",
      "epoch\n",
      "New generation\n",
      "epoch\n",
      "New generation\n",
      "epoch\n",
      "New generation\n",
      "epoch\n",
      "New generation\n",
      "epoch\n",
      "CPU times: user 1h 49min 15s, sys: 3min 13s, total: 1h 52min 29s\n",
      "Wall time: 1h 52min 37s\n"
     ]
    }
   ],
   "source": [
    "%%time\n",
    "\n",
    "loss_hist = []\n",
    "\n",
    "for q in range(nb_round_generation):\n",
    "\n",
    "    print(\"New generation\")\n",
    "    \n",
    "    obs_all, actions_all = generate_dataset(size_generation)\n",
    "\n",
    "    dataset = TensorDataset(torch.from_numpy(np.array(obs_all)), torch.from_numpy(np.array(actions_all)))\n",
    "    dataloader = DataLoader(dataset, batch_size=64, shuffle=True)\n",
    "\n",
    "    for p in range(nb_epoch):\n",
    "        \n",
    "        print(\"epoch\")\n",
    "        \n",
    "        for obs, actions in dataloader:\n",
    "\n",
    "            obs = jnp.array(obs)\n",
    "            actions = jnp.array(actions)\n",
    "            \n",
    "            # optimizer application\n",
    "            loss_val, grad = loss_grad_fn(params, obs, actions)\n",
    "            updates, opt_state = optimizer.update(grad, opt_state, params)  # transform & update stats.\n",
    "            params = optax.apply_updates(params, updates)\n",
    "            \n",
    "            params = jax.lax.stop_gradient(params)\n",
    "            \n",
    "            loss_val = jax.lax.stop_gradient(loss_val)\n",
    "            loss_hist.append(loss_val)\n",
    "            \n",
    "            \n",
    "        #jax.profiler.save_device_memory_profile(f\"memory{p}_{q}.prof\")\n",
    "\n",
    "\n",
    "                "
   ]
  },
  {
   "cell_type": "code",
   "execution_count": 18,
   "metadata": {},
   "outputs": [
    {
     "data": {
      "text/plain": [
       "[<matplotlib.lines.Line2D at 0x7f5177178a90>]"
      ]
     },
     "execution_count": 18,
     "metadata": {},
     "output_type": "execute_result"
    },
    {
     "data": {
      "image/png": "[encoded data removed]",
      "text/plain": [
       "<Figure size 432x288 with 1 Axes>"
      ]
     },
     "metadata": {
      "needs_background": "light"
     },
     "output_type": "display_data"
    }
   ],
   "source": [
    "plt.plot(loss_hist)"
   ]
  },
  {
   "cell_type": "code",
   "execution_count": 29,
   "metadata": {},
   "outputs": [],
   "source": [
    "for obs, actions in dataloader:\n",
    "    obs = jnp.array(obs)\n",
    "    actions = jnp.array(actions)"
   ]
  },
  {
   "cell_type": "code",
   "execution_count": 21,
   "metadata": {},
   "outputs": [
    {
     "data": {
      "text/plain": [
       "[<matplotlib.lines.Line2D at 0x7f51a0b7a8e0>]"
      ]
     },
     "execution_count": 21,
     "metadata": {},
     "output_type": "execute_result"
    },
    {
     "data": {
      "image/png": "[encoded data removed]",
      "text/plain": [
       "<Figure size 432x288 with 1 Axes>"
      ]
     },
     "metadata": {
      "needs_background": "light"
     },
     "output_type": "display_data"
    }
   ],
   "source": [
    "loss_hist_conv = np.convolve(loss_hist, [0.5, 0.5])\n",
    "plt.plot(loss_hist_conv)"
   ]
  },
  {
   "cell_type": "code",
   "execution_count": 22,
   "metadata": {},
   "outputs": [],
   "source": [
    "pred =  model_rubik.apply(params, obs)\n",
    "actions_ = smooth_vec(actions, 0.1)"
   ]
  },
  {
   "cell_type": "code",
   "execution_count": 25,
   "metadata": {},
   "outputs": [
    {
     "data": {
      "text/plain": [
       "DeviceArray([[0.09903321, 0.08787514, 0.08926631, 0.08605015, 0.08034284,\n",
       "              0.06552635, 0.06811097, 0.06499642, 0.09200169, 0.1011763 ,\n",
       "              0.08150456, 0.08411605],\n",
       "             [0.10682761, 0.10357153, 0.06999954, 0.07109042, 0.07530154,\n",
       "              0.07431918, 0.08099779, 0.07826633, 0.08903639, 0.10012593,\n",
       "              0.07807752, 0.07238621],\n",
       "             [0.07672944, 0.07264872, 0.09520233, 0.0920278 , 0.09225721,\n",
       "              0.0930339 , 0.0670476 , 0.06639387, 0.09805148, 0.10108283,\n",
       "              0.07162858, 0.07389628],\n",
       "             [0.06730958, 0.09576166, 0.06023575, 0.09076031, 0.08790235,\n",
       "              0.09479324, 0.08473118, 0.08822805, 0.06271711, 0.11779445,\n",
       "              0.05817367, 0.09159273],\n",
       "             [0.08294633, 0.08075906, 0.08588978, 0.08141427, 0.0940852 ,\n",
       "              0.09452771, 0.07246183, 0.06956102, 0.08358623, 0.08547929,\n",
       "              0.08135758, 0.08793172],\n",
       "             [0.10402488, 0.07774901, 0.08472954, 0.06418136, 0.08270673,\n",
       "              0.08527301, 0.08252278, 0.08517843, 0.07861093, 0.10643911,\n",
       "              0.06797567, 0.08060849],\n",
       "             [0.08292304, 0.08164541, 0.08661813, 0.08757506, 0.07985193,\n",
       "              0.08186123, 0.07868525, 0.07787345, 0.08748782, 0.08806262,\n",
       "              0.08174866, 0.08566733],\n",
       "             [0.09968702, 0.095791  , 0.0740035 , 0.07286128, 0.08536898,\n",
       "              0.08499914, 0.07497299, 0.07185144, 0.08590584, 0.09487458,\n",
       "              0.08093885, 0.07874531],\n",
       "             [0.06556407, 0.06755219, 0.08583189, 0.08315413, 0.07509869,\n",
       "              0.07483997, 0.0943344 , 0.09318521, 0.0924979 , 0.08929446,\n",
       "              0.08776522, 0.0908819 ],\n",
       "             [0.09031773, 0.09609146, 0.07510632, 0.07636721, 0.07545789,\n",
       "              0.07136501, 0.09096232, 0.08921241, 0.07313453, 0.07431578,\n",
       "              0.09112696, 0.09654237],\n",
       "             [0.0974905 , 0.09608644, 0.0844409 , 0.08967712, 0.08103422,\n",
       "              0.05554353, 0.06586706, 0.06473975, 0.066875  , 0.07235241,\n",
       "              0.10455629, 0.12133681],\n",
       "             [0.08902063, 0.09260038, 0.08154465, 0.0812066 , 0.06788281,\n",
       "              0.06568877, 0.0971807 , 0.09347623, 0.09107366, 0.0917211 ,\n",
       "              0.07369438, 0.07491008],\n",
       "             [0.08501916, 0.08351792, 0.08959462, 0.08516514, 0.08973199,\n",
       "              0.09508967, 0.0785986 , 0.07495903, 0.09216374, 0.07379778,\n",
       "              0.08413824, 0.06822413],\n",
       "             [0.08479051, 0.08258965, 0.08404599, 0.07964951, 0.09498905,\n",
       "              0.09472492, 0.07215308, 0.06934793, 0.08216804, 0.08478998,\n",
       "              0.08218385, 0.08856746],\n",
       "             [0.08891437, 0.08476573, 0.09496862, 0.09687428, 0.08067518,\n",
       "              0.08605756, 0.08145151, 0.09229462, 0.05661625, 0.11569397,\n",
       "              0.04141703, 0.08027086],\n",
       "             [0.05006012, 0.10275021, 0.0407615 , 0.08476098, 0.07961117,\n",
       "              0.07840366, 0.09420387, 0.09293763, 0.08200576, 0.09067684,\n",
       "              0.10173903, 0.10208928],\n",
       "             [0.08092045, 0.08241341, 0.08758496, 0.08783947, 0.07624347,\n",
       "              0.07608841, 0.08552411, 0.08320324, 0.08603675, 0.08472227,\n",
       "              0.08201972, 0.08740371],\n",
       "             [0.09524829, 0.09692748, 0.07727305, 0.07742587, 0.06996595,\n",
       "              0.06799583, 0.09223542, 0.08875414, 0.09066921, 0.09486209,\n",
       "              0.07494397, 0.0736987 ],\n",
       "             [0.08291895, 0.08101226, 0.08477041, 0.07895707, 0.09986273,\n",
       "              0.09870121, 0.07052808, 0.0676239 , 0.07949056, 0.08145478,\n",
       "              0.08294883, 0.09173112],\n",
       "             [0.08423597, 0.08096146, 0.08889661, 0.08471717, 0.08982564,\n",
       "              0.0885708 , 0.07296269, 0.06886736, 0.086993  , 0.09348793,\n",
       "              0.07667658, 0.08380476],\n",
       "             [0.08508481, 0.09311962, 0.09471352, 0.0901766 , 0.07957686,\n",
       "              0.08589043, 0.11176086, 0.11536868, 0.04104277, 0.07838673,\n",
       "              0.04298917, 0.08188994],\n",
       "             [0.08847481, 0.08319914, 0.08970765, 0.08700826, 0.08682068,\n",
       "              0.08040189, 0.06997116, 0.06668578, 0.09251698, 0.09759267,\n",
       "              0.07681733, 0.08080365],\n",
       "             [0.04919143, 0.09105626, 0.04808052, 0.09289718, 0.08173613,\n",
       "              0.08447844, 0.087311  , 0.08613659, 0.09137034, 0.09861311,\n",
       "              0.09416517, 0.09496383],\n",
       "             [0.10216479, 0.05222788, 0.09147156, 0.04026264, 0.0797405 ,\n",
       "              0.0802077 , 0.09663042, 0.09418946, 0.09224367, 0.09320845,\n",
       "              0.09087498, 0.08677793],\n",
       "             [0.08250975, 0.07737814, 0.09492455, 0.09709667, 0.07700508,\n",
       "              0.07751952, 0.07371341, 0.07928468, 0.10364118, 0.10433025,\n",
       "              0.06467703, 0.06791982],\n",
       "             [0.09615724, 0.09458745, 0.0735813 , 0.05980085, 0.06082334,\n",
       "              0.05605294, 0.12392611, 0.10890261, 0.08496353, 0.08604854,\n",
       "              0.07909865, 0.07605743],\n",
       "             [0.07399176, 0.07213485, 0.09412964, 0.09192489, 0.09230302,\n",
       "              0.09301815, 0.06863154, 0.06644351, 0.09244398, 0.09482285,\n",
       "              0.07914662, 0.08100916],\n",
       "             [0.08556185, 0.0532734 , 0.10232208, 0.05355169, 0.07156118,\n",
       "              0.07069389, 0.10754575, 0.10626011, 0.09561414, 0.08854349,\n",
       "              0.08066504, 0.08440741],\n",
       "             [0.07943761, 0.08650755, 0.08719087, 0.08584242, 0.07605734,\n",
       "              0.07554544, 0.09742127, 0.0936581 , 0.07905641, 0.06313017,\n",
       "              0.09179328, 0.08435959],\n",
       "             [0.08169035, 0.06931961, 0.09356869, 0.07288698, 0.07513995,\n",
       "              0.07537355, 0.09452936, 0.09169786, 0.08919263, 0.08532757,\n",
       "              0.08316334, 0.08811013],\n",
       "             [0.04439197, 0.07751037, 0.04845139, 0.09098916, 0.09470797,\n",
       "              0.10156436, 0.07479991, 0.07551558, 0.10724274, 0.11865716,\n",
       "              0.0828544 , 0.08331506],\n",
       "             [0.07672944, 0.07264872, 0.09520233, 0.0920278 , 0.09225721,\n",
       "              0.0930339 , 0.0670476 , 0.06639387, 0.09805148, 0.10108283,\n",
       "              0.07162858, 0.07389628],\n",
       "             [0.08173067, 0.0816569 , 0.08515433, 0.08863211, 0.08293574,\n",
       "              0.08273505, 0.07533617, 0.07773931, 0.07901564, 0.07943536,\n",
       "              0.08943588, 0.09619284],\n",
       "             [0.09377078, 0.09443042, 0.07677735, 0.07703951, 0.075319  ,\n",
       "              0.07478622, 0.086078  , 0.08189832, 0.08642893, 0.09118948,\n",
       "              0.08179532, 0.08048669],\n",
       "             [0.10323258, 0.09709693, 0.07200635, 0.06656305, 0.09269942,\n",
       "              0.09220228, 0.07178436, 0.06484665, 0.09031297, 0.10349333,\n",
       "              0.07502154, 0.07074048],\n",
       "             [0.08381155, 0.08722572, 0.08261129, 0.08306533, 0.07588645,\n",
       "              0.07464918, 0.08868495, 0.08607488, 0.08075245, 0.0802036 ,\n",
       "              0.08584125, 0.09119333],\n",
       "             [0.0776521 , 0.08191763, 0.09121998, 0.09050561, 0.06816754,\n",
       "              0.06684205, 0.09788084, 0.09545472, 0.09095502, 0.08599698,\n",
       "              0.07354848, 0.07985909],\n",
       "             [0.07236116, 0.10924252, 0.07408266, 0.09634598, 0.10157707,\n",
       "              0.13193764, 0.11148605, 0.11471393, 0.05444342, 0.04176168,\n",
       "              0.05709468, 0.03495322],\n",
       "             [0.06685588, 0.08505181, 0.06733049, 0.08958066, 0.08970299,\n",
       "              0.08953974, 0.07516359, 0.07815006, 0.07787832, 0.0805049 ,\n",
       "              0.09577282, 0.1044687 ],\n",
       "             [0.10176464, 0.10913672, 0.06781375, 0.06670555, 0.06633721,\n",
       "              0.06261819, 0.10356436, 0.09243728, 0.08352888, 0.09006605,\n",
       "              0.08063973, 0.07538767],\n",
       "             [0.0868388 , 0.09374278, 0.09712444, 0.08567826, 0.08551005,\n",
       "              0.10457605, 0.10154042, 0.09562332, 0.10390571, 0.02384954,\n",
       "              0.09937679, 0.02223385],\n",
       "             [0.05996421, 0.07861884, 0.08665666, 0.08728901, 0.06002874,\n",
       "              0.05223156, 0.12731892, 0.11802702, 0.06200984, 0.05286964,\n",
       "              0.09821983, 0.11676574],\n",
       "             [0.08803795, 0.05357152, 0.09877639, 0.05433722, 0.08239044,\n",
       "              0.08385283, 0.0891093 , 0.08905374, 0.09005119, 0.08707456,\n",
       "              0.09028458, 0.09346028],\n",
       "             [0.09042152, 0.08715414, 0.09272423, 0.09292951, 0.08304346,\n",
       "              0.08962374, 0.08415459, 0.0939943 , 0.04734417, 0.11428507,\n",
       "              0.03849312, 0.08583207],\n",
       "             [0.0895098 , 0.09235458, 0.07929261, 0.07899982, 0.07286674,\n",
       "              0.07179012, 0.09145208, 0.08633877, 0.0863304 , 0.0885089 ,\n",
       "              0.0810434 , 0.08151276],\n",
       "             [0.07555605, 0.08484679, 0.0970766 , 0.09490421, 0.0688362 ,\n",
       "              0.07031301, 0.11641727, 0.12050015, 0.04213818, 0.09856194,\n",
       "              0.03797125, 0.09287832],\n",
       "             [0.09555457, 0.05171245, 0.10301208, 0.05254308, 0.08286873,\n",
       "              0.07897615, 0.08258299, 0.08368184, 0.09646104, 0.09640516,\n",
       "              0.08721948, 0.08898238],\n",
       "             [0.0825374 , 0.08652572, 0.09790552, 0.09267988, 0.09027129,\n",
       "              0.10576169, 0.08719219, 0.08447419, 0.09912755, 0.03450862,\n",
       "              0.10463123, 0.03438471]], dtype=float32)"
      ]
     },
     "execution_count": 25,
     "metadata": {},
     "output_type": "execute_result"
    }
   ],
   "source": [
    "nn.softmax(pred)"
   ]
  },
  {
   "cell_type": "code",
   "execution_count": null,
   "metadata": {},
   "outputs": [],
   "source": []
  }
 ],
 "metadata": {
  "kernelspec": {
   "display_name": "Python 3",
   "language": "python",
   "name": "python3"
  },
  "language_info": {
   "codemirror_mode": {
    "name": "ipython",
    "version": 3
   },
   "file_extension": ".py",
   "mimetype": "text/x-python",
   "name": "python",
   "nbconvert_exporter": "python",
   "pygments_lexer": "ipython3",
   "version": "3.8.5"
  }
 },
 "nbformat": 4,
 "nbformat_minor": 4
}
