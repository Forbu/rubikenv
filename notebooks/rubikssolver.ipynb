{
 "cells": [
  {
   "cell_type": "code",
   "execution_count": null,
   "metadata": {},
   "outputs": [],
   "source": [
    "### we should do pip install"
   ]
  },
  {
   "cell_type": "code",
   "execution_count": 4,
   "metadata": {},
   "outputs": [
    {
     "ename": "ModuleNotFoundError",
     "evalue": "No module named 'gym_Rubiks_Cube'",
     "output_type": "error",
     "traceback": [
      "\u001b[0;31m---------------------------------------------------------------------------\u001b[0m",
      "\u001b[0;31mModuleNotFoundError\u001b[0m                       Traceback (most recent call last)",
      "\u001b[0;32m<ipython-input-4-0007ae7afaf1>\u001b[0m in \u001b[0;36m<module>\u001b[0;34m\u001b[0m\n\u001b[1;32m      1\u001b[0m \u001b[0;32mimport\u001b[0m \u001b[0mgym\u001b[0m\u001b[0;34m\u001b[0m\u001b[0;34m\u001b[0m\u001b[0m\n\u001b[0;32m----> 2\u001b[0;31m \u001b[0;32mimport\u001b[0m \u001b[0mgym_Rubiks_Cube\u001b[0m\u001b[0;34m\u001b[0m\u001b[0;34m\u001b[0m\u001b[0m\n\u001b[0m\u001b[1;32m      3\u001b[0m \u001b[0;34m\u001b[0m\u001b[0m\n\u001b[1;32m      4\u001b[0m \u001b[0;32mfrom\u001b[0m \u001b[0mflax\u001b[0m \u001b[0;32mimport\u001b[0m \u001b[0moptim\u001b[0m\u001b[0;34m\u001b[0m\u001b[0;34m\u001b[0m\u001b[0m\n\u001b[1;32m      5\u001b[0m \u001b[0;32mimport\u001b[0m \u001b[0mjax\u001b[0m\u001b[0;34m\u001b[0m\u001b[0;34m\u001b[0m\u001b[0m\n",
      "\u001b[0;31mModuleNotFoundError\u001b[0m: No module named 'gym_Rubiks_Cube'"
     ]
    }
   ],
   "source": [
    "import gym\n",
    "import gym_Rubiks_Cube\n",
    "\n",
    "from flax import optim\n",
    "import jax\n",
    "from typing import Any, Callable, Sequence, Optional\n",
    "from jax import lax, numpy as jnp\n",
    "from jax import vmap, jit\n",
    "import jax.random as jrandom\n",
    "\n",
    "from flax import optim\n",
    "import flax\n",
    "from flax.core import freeze, unfreeze\n",
    "from flax import linen as nn\n",
    "\n",
    "import optax\n",
    "import numpy as np\n",
    "\n",
    "from jax.config import config\n",
    "config.enable_omnistaging() # Linen requires enabling omnistaging\n",
    "\n",
    "import collections\n",
    "\n",
    "from torch.utils.data import DataLoader\n",
    "from torch.utils.data import TensorDataset\n",
    "import torch\n",
    "\n",
    "import matplotlib.pyplot as plt\n",
    "%matplotlib inline"
   ]
  },
  {
   "cell_type": "code",
   "execution_count": null,
   "metadata": {},
   "outputs": [],
   "source": []
  },
  {
   "cell_type": "code",
   "execution_count": 3,
   "metadata": {},
   "outputs": [
    {
     "name": "stdout",
     "output_type": "stream",
     "text": [
      "         \u001b[5m\u001b[7m\u001b[32m + \u001b[0m\u001b[5m\u001b[7m\u001b[32m + \u001b[0m\u001b[5m\u001b[7m\u001b[32m + \u001b[0m                  \n",
      "         \u001b[5m\u001b[7m\u001b[32m + \u001b[0m\u001b[5m\u001b[7m\u001b[32m + \u001b[0m\u001b[5m\u001b[7m\u001b[32m + \u001b[0m                  \n",
      "         \u001b[5m\u001b[7m\u001b[32m + \u001b[0m\u001b[5m\u001b[7m\u001b[32m + \u001b[0m\u001b[5m\u001b[7m\u001b[32m + \u001b[0m                  \n",
      "\u001b[5m\u001b[7m\u001b[31m + \u001b[0m\u001b[5m\u001b[7m\u001b[31m + \u001b[0m\u001b[5m\u001b[7m\u001b[31m + \u001b[0m\u001b[5m\u001b[7m\u001b[37m + \u001b[0m\u001b[5m\u001b[7m\u001b[37m + \u001b[0m\u001b[5m\u001b[7m\u001b[37m + \u001b[0m\u001b[5m\u001b[7m\u001b[35m + \u001b[0m\u001b[5m\u001b[7m\u001b[35m + \u001b[0m\u001b[5m\u001b[7m\u001b[35m + \u001b[0m\u001b[5m\u001b[7m\u001b[33m + \u001b[0m\u001b[5m\u001b[7m\u001b[33m + \u001b[0m\u001b[5m\u001b[7m\u001b[33m + \u001b[0m\n",
      "\u001b[5m\u001b[7m\u001b[31m + \u001b[0m\u001b[5m\u001b[7m\u001b[31m + \u001b[0m\u001b[5m\u001b[7m\u001b[31m + \u001b[0m\u001b[5m\u001b[7m\u001b[37m + \u001b[0m\u001b[5m\u001b[7m\u001b[37m + \u001b[0m\u001b[5m\u001b[7m\u001b[37m + \u001b[0m\u001b[5m\u001b[7m\u001b[35m + \u001b[0m\u001b[5m\u001b[7m\u001b[35m + \u001b[0m\u001b[5m\u001b[7m\u001b[35m + \u001b[0m\u001b[5m\u001b[7m\u001b[33m + \u001b[0m\u001b[5m\u001b[7m\u001b[33m + \u001b[0m\u001b[5m\u001b[7m\u001b[33m + \u001b[0m\n",
      "\u001b[5m\u001b[7m\u001b[31m + \u001b[0m\u001b[5m\u001b[7m\u001b[31m + \u001b[0m\u001b[5m\u001b[7m\u001b[31m + \u001b[0m\u001b[5m\u001b[7m\u001b[37m + \u001b[0m\u001b[5m\u001b[7m\u001b[37m + \u001b[0m\u001b[5m\u001b[7m\u001b[37m + \u001b[0m\u001b[5m\u001b[7m\u001b[35m + \u001b[0m\u001b[5m\u001b[7m\u001b[35m + \u001b[0m\u001b[5m\u001b[7m\u001b[35m + \u001b[0m\u001b[5m\u001b[7m\u001b[33m + \u001b[0m\u001b[5m\u001b[7m\u001b[33m + \u001b[0m\u001b[5m\u001b[7m\u001b[33m + \u001b[0m\n",
      "         \u001b[5m\u001b[7m\u001b[34m + \u001b[0m\u001b[5m\u001b[7m\u001b[34m + \u001b[0m\u001b[5m\u001b[7m\u001b[34m + \u001b[0m                  \n",
      "         \u001b[5m\u001b[7m\u001b[34m + \u001b[0m\u001b[5m\u001b[7m\u001b[34m + \u001b[0m\u001b[5m\u001b[7m\u001b[34m + \u001b[0m                  \n",
      "         \u001b[5m\u001b[7m\u001b[34m + \u001b[0m\u001b[5m\u001b[7m\u001b[34m + \u001b[0m\u001b[5m\u001b[7m\u001b[34m + \u001b[0m                  \n",
      "\n"
     ]
    }
   ],
   "source": [
    "env = gym.make(\"RubiksCube-v0\")\n",
    "env.setScramble(0, 1, False)\n",
    "obs, done = env.reset(), True\n",
    "env.step(1)\n",
    "env.step(7)\n",
    "env.render(\"human\")"
   ]
  },
  {
   "cell_type": "code",
   "execution_count": 4,
   "metadata": {},
   "outputs": [
    {
     "data": {
      "text/plain": [
       "array([5, 5, 5, 5, 5, 5, 5, 5, 5, 2, 2, 2, 2, 2, 2, 2, 2, 2, 1, 1, 1, 1,\n",
       "       1, 1, 1, 1, 1, 0, 0, 0, 0, 0, 0, 0, 0, 0, 3, 3, 3, 3, 3, 3, 3, 3,\n",
       "       3, 4, 4, 4, 4, 4, 4, 4, 4, 4])"
      ]
     },
     "execution_count": 4,
     "metadata": {},
     "output_type": "execute_result"
    }
   ],
   "source": [
    "obs"
   ]
  },
  {
   "cell_type": "markdown",
   "metadata": {},
   "source": [
    "### Mains functions for training"
   ]
  },
  {
   "cell_type": "code",
   "execution_count": null,
   "metadata": {},
   "outputs": [],
   "source": [
    "## First we can try to solve it using \"classic machine learning\"\n",
    "## conversion action => on hot encoder\n",
    "\n",
    "from flax import linen as nn\n",
    "\n",
    "class Model_rubik(nn.Module):\n",
    "\n",
    "    features = (4096, 2048, 512, 12)\n",
    "\n",
    "    def setup(self):\n",
    "        self.dense1 = nn.Dense(self.features[0])\n",
    "        self.dense2 = nn.Dense(self.features[1])\n",
    "        self.dense3 = nn.Dense(self.features[2])\n",
    "        self.dense4 = nn.Dense(self.features[3])\n",
    "\n",
    "    def __call__(self, x):\n",
    "        x = nn.relu(self.dense1(x))\n",
    "        x = nn.relu(self.dense2(x))\n",
    "        x = nn.relu(self.dense3(x))\n",
    "        x = self.dense4(x)\n",
    "        return nn.softmax(x)\n",
    "\n",
    "model_rubik = Model_rubik()\n",
    "    \n",
    "key1, key2 = jrandom.split(jrandom.PRNGKey(0))\n",
    "x = jrandom.normal(key1, (54*6,)) # Dummy input\n",
    "params = model_rubik.init(key2, x) # Initialization call\n",
    "    \n",
    "#### action help\n",
    "def encoder_one_hot_action(action):\n",
    "    \"\"\"\n",
    "    Encode the action into a one hot encoder vector\n",
    "    \"\"\"\n",
    "    \n",
    "    action_encode = jnp.zeros(12)\n",
    "    action_encode = jax.ops.index_update(action_encode, jax.ops.index[action], 1)\n",
    "\n",
    "    return action_encode\n",
    "\n",
    "def encoder_decode_action(action_encode):\n",
    "    \"\"\"\n",
    "    Decode from one hot to int value\n",
    "    \"\"\"\n",
    "    action = jnp.argmax(action_encode)\n",
    "    \n",
    "    return action\n",
    "\n",
    "#### state help\n",
    "def encoder_one_hot_state(state):\n",
    "    \"\"\"\n",
    "    Encode the action into a one hot encoder vector\n",
    "    \"\"\"\n",
    "    \n",
    "    state_encode = jnp.zeros((54, 6))\n",
    "    \n",
    "    for idx, i in enumerate(state):\n",
    "        state_encode = jax.ops.index_update(state_encode, jax.ops.index[idx, i], 1)\n",
    "\n",
    "    return jnp.ravel(state_encode), state_encode\n",
    "\n",
    "def encoder_decode_state(state_encode):\n",
    "    \"\"\"\n",
    "    Decode from one hot to int value\n",
    "    \"\"\"\n",
    "    state = jnp.argmax(state_encode, axis=1)\n",
    "    \n",
    "    return state\n",
    "\n",
    "def compute_inverse_action(action):\n",
    "    return (action + 6) % 12\n",
    "\n",
    "reverse_list = vmap(compute_inverse_action)\n",
    "\n",
    "encoder_one_hot_action_action = vmap(encoder_one_hot_action)\n",
    "encoder_one_hot_state_vector = vmap(encoder_one_hot_state)\n",
    "\n",
    "nb_iter = 15\n",
    "\n",
    "def compute_random_suffle(dumpy_value):\n",
    "    \n",
    "    env = gym.make(\"RubiksCube-v0\")\n",
    "    env.setScramble(0, 1, False)\n",
    "    obs, done = env.reset(), False\n",
    "    episode_rew = 0\n",
    "    \n",
    "    ## action list\n",
    "    #actions = jrandom.randint(key1, shape=(nb_iter,1), minval=0, maxval=12)\n",
    "    actions = np.random.randint(0, 12, size=(nb_iter,1))\n",
    "    \n",
    "    ## state list\n",
    "    obs_list = []\n",
    "    \n",
    "    for _ in range(nb_iter):\n",
    "        \n",
    "        obs, rew, done, _ = env.step(actions[_, 0])\n",
    "        obs_list.append(obs)\n",
    "        \n",
    "        ## we should also compute the max of the model\n",
    "    \n",
    "    ### we compute the reverse action\n",
    "    \n",
    "    return jnp.array(obs_list), reverse_list(actions)\n",
    "\n",
    "def make_cross_entropy_loss(x_batched, y_batched):\n",
    "    def cel(params):\n",
    "        # Define the squared loss for a single pair (x,y)\n",
    "        def cross_entropy_loss(x, y):\n",
    "            pred = model_rubik.apply(params, x)\n",
    "            return -jnp.inner(y, jnp.log(pred))/2.0\n",
    "        \n",
    "        # We vectorize the previous to compute the average of the loss on all samples.\n",
    "        return jnp.mean(jax.vmap(cross_entropy_loss)(x_batched,y_batched), axis=0)\n",
    "    return jax.jit(cel) # And finally we jit the result.\n",
    "\n",
    "\n"
   ]
  },
  {
   "cell_type": "markdown",
   "metadata": {},
   "source": [
    "### Testing part"
   ]
  },
  {
   "cell_type": "code",
   "execution_count": 6,
   "metadata": {},
   "outputs": [
    {
     "name": "stdout",
     "output_type": "stream",
     "text": [
      "CPU times: user 275 ms, sys: 31.7 ms, total: 307 ms\n",
      "Wall time: 264 ms\n"
     ]
    }
   ],
   "source": [
    "%%time\n",
    "## testing results\n",
    "encode_vector = encoder_one_hot_action(0)\n",
    "encoder_decode_action(encode_vector)\n",
    "\n",
    "encoded, encoded_hot = encoder_one_hot_state(obs)\n",
    "encoder_decode_state(encoded_hot)\n",
    "\n",
    "## computer result\n",
    "for i in range(1):\n",
    "    list_obs, actions = compute_random_suffle(0)"
   ]
  },
  {
   "cell_type": "code",
   "execution_count": 3,
   "metadata": {},
   "outputs": [
    {
     "ename": "NameError",
     "evalue": "name 'compute_random_suffle' is not defined",
     "output_type": "error",
     "traceback": [
      "\u001b[0;31m---------------------------------------------------------------------------\u001b[0m",
      "\u001b[0;31mNameError\u001b[0m                                 Traceback (most recent call last)",
      "\u001b[0;32m<timed exec>\u001b[0m in \u001b[0;36m<module>\u001b[0;34m\u001b[0m\n",
      "\u001b[0;31mNameError\u001b[0m: name 'compute_random_suffle' is not defined"
     ]
    }
   ],
   "source": [
    "### Now we try to compute the solution \n",
    "### we generate a list of target\n",
    "%time list_obs, actions = compute_random_suffle(0)"
   ]
  },
  {
   "cell_type": "markdown",
   "metadata": {},
   "source": [
    "### 1. Little loop (self supervised)"
   ]
  },
  {
   "cell_type": "code",
   "execution_count": null,
   "metadata": {},
   "outputs": [],
   "source": [
    "%%time\n",
    "### for loop\n",
    "# 1. loop on epoch\n",
    "# In loop generate sample\n",
    "# train on generated sample (batch)\n",
    "nb_iter_main_loop = 10000\n",
    "\n",
    "\n",
    "optimizer_def = optim.Adam(learning_rate=0.001) # Choose the method\n",
    "optimizer = optimizer_def.create(params) # Create the wrapping optimizer with initial parameters\n",
    "\n",
    "for _ in range(nb_iter_main_loop):\n",
    "    \n",
    "    # train on main loop\n",
    "    list_obs, actions = compute_random_suffle(0)\n",
    "\n",
    "    # process for training\n",
    "    actions = encoder_one_hot_action_action(actions)\n",
    "    list_obs, list_obs_encode = encoder_one_hot_state_vector(list_obs)\n",
    "    \n",
    "    # loss define\n",
    "    loss = make_cross_entropy_loss(list_obs, actions)\n",
    "    loss_grad_fn = jax.value_and_grad(loss)\n",
    "    \n",
    "    # optimizer application\n",
    "    loss_val, grad = loss_grad_fn(optimizer.target)\n",
    "    optimizer = optimizer.apply_gradient(grad) # Return the updated optimizer with parameters.\n",
    "    "
   ]
  },
  {
   "cell_type": "markdown",
   "metadata": {},
   "source": [
    "### 2. First make the dataset and then we train it on the loop"
   ]
  },
  {
   "cell_type": "markdown",
   "metadata": {},
   "source": [
    "#### 2.1 create dataset"
   ]
  },
  {
   "cell_type": "code",
   "execution_count": 7,
   "metadata": {},
   "outputs": [
    {
     "name": "stdout",
     "output_type": "stream",
     "text": [
      "CPU times: user 4 µs, sys: 1 µs, total: 5 µs\n",
      "Wall time: 7.87 µs\n"
     ]
    }
   ],
   "source": [
    "%%time\n",
    "### Plan : generate 2m6 datapoints and then train it on 1m6 and then compute the result on the other 1m6\n",
    "\n",
    "def generate_dataset(nb_iter_main_loop=1000):\n",
    "\n",
    "    actions_all = []\n",
    "    obs_all = []\n",
    "\n",
    "    for _ in range(nb_iter_main_loop):\n",
    "\n",
    "        # train on main loop\n",
    "        list_obs, actions = compute_random_suffle(0)\n",
    "\n",
    "        # process for training\n",
    "        actions = encoder_one_hot_action_action(actions)\n",
    "        list_obs, list_obs_encode = encoder_one_hot_state_vector(list_obs)\n",
    "\n",
    "        actions_all.append(actions)\n",
    "        obs_all.append(list_obs)\n",
    "        \n",
    "    obs_all = jnp.concatenate(obs_all)\n",
    "    actions_all = jnp.concatenate(actions_all)\n",
    "        \n",
    "    return obs_all, actions_all\n"
   ]
  },
  {
   "cell_type": "code",
   "execution_count": null,
   "metadata": {},
   "outputs": [],
   "source": []
  },
  {
   "cell_type": "code",
   "execution_count": null,
   "metadata": {},
   "outputs": [],
   "source": []
  },
  {
   "cell_type": "markdown",
   "metadata": {},
   "source": [
    "#### 2.2 Loader construction"
   ]
  },
  {
   "cell_type": "code",
   "execution_count": 9,
   "metadata": {},
   "outputs": [],
   "source": [
    "\n",
    "\n",
    "obs_all, actions_all = generate_dataset()\n",
    "\n",
    "dataset = TensorDataset(torch.from_numpy(np.array(obs_all)), torch.from_numpy(np.array(actions_all)))\n",
    "dataloader = DataLoader(dataset, batch_size=32, shuffle=True)\n"
   ]
  },
  {
   "cell_type": "code",
   "execution_count": null,
   "metadata": {},
   "outputs": [],
   "source": []
  },
  {
   "cell_type": "markdown",
   "metadata": {},
   "source": [
    "#### 2.3 Optimization"
   ]
  },
  {
   "cell_type": "code",
   "execution_count": 100,
   "metadata": {},
   "outputs": [],
   "source": [
    "loss_hist = []\n",
    "\n",
    "optimizer_def = optim.GradientDescent(learning_rate=0.01) # Choose the method\n",
    "\n",
    "optimizer = optimizer_def.create(params) # Create the wrapping optimizer with initial parameters\n",
    "\n",
    "nb_epoch = 1\n",
    "\n",
    "def make_cross_entropy_loss_second(params_, x, y):\n",
    "    pred = model_rubik.apply(params_, x)\n",
    "    loss = -jnp.inner(y, jnp.log(pred))/2.0\n",
    "    return loss\n",
    "\n",
    "cross_entropy_loss_second = vmap(make_cross_entropy_loss_second, in_axes=(None, 0, 0))\n",
    "\n",
    "def cross_entropy_loss_second_scalar(params, x, y):\n",
    "    return jnp.mean(cross_entropy_loss_second(params, x, y))\n",
    "\n",
    "jit_cross_entropy_loss_second_scalar = jit(cross_entropy_loss_second_scalar)\n",
    "\n",
    "for _ in range(nb_epoch):\n",
    "    for obs, actions in dataloader:\n",
    "\n",
    "        obs = jnp.array(obs)\n",
    "        actions = jnp.array(actions)\n",
    "\n",
    "        # loss define\n",
    "        loss_grad_fn = jax.value_and_grad(jit_cross_entropy_loss_second_scalar, argnums=0)\n",
    "\n",
    "        # optimizer application\n",
    "        loss_val, grad = loss_grad_fn(optimizer.target, obs, actions)\n",
    "        optimizer = optimizer.apply_gradient(grad) # Return the updated optimizer with parameters.\n",
    "        \n",
    "        # save for plot\n",
    "        loss_hist.append(loss_val)\n",
    "        \n",
    "        "
   ]
  },
  {
   "cell_type": "code",
   "execution_count": 99,
   "metadata": {},
   "outputs": [
    {
     "data": {
      "text/plain": [
       "[<matplotlib.lines.Line2D at 0x7f6903b1d0a0>]"
      ]
     },
     "execution_count": 99,
     "metadata": {},
     "output_type": "execute_result"
    },
    {
     "data": {
      "image/png": "[encoded data removed]",
      "text/plain": [
       "<Figure size 432x288 with 1 Axes>"
      ]
     },
     "metadata": {
      "needs_background": "light"
     },
     "output_type": "display_data"
    }
   ],
   "source": [
    "plt.plot(loss_hist)"
   ]
  },
  {
   "cell_type": "markdown",
   "metadata": {},
   "source": [
    "#### 2.4 Optimization with Optax"
   ]
  },
  {
   "cell_type": "code",
   "execution_count": 8,
   "metadata": {},
   "outputs": [
    {
     "name": "stdout",
     "output_type": "stream",
     "text": [
      "New generation\n",
      "New generation\n",
      "New generation\n",
      "New generation\n",
      "New generation\n",
      "New generation\n",
      "New generation\n",
      "New generation\n",
      "New generation\n",
      "New generation\n"
     ]
    }
   ],
   "source": [
    "loss_hist = []\n",
    "\n",
    "optimizer = optax.adam(0.001)\n",
    "opt_state = optimizer.init(params)\n",
    "\n",
    "nb_epoch = 3\n",
    "nb_round_generation = 10\n",
    "\n",
    "def make_cross_entropy_loss_second(params_, x, y):\n",
    "    pred = model_rubik.apply(params_, x)\n",
    "    loss = -jnp.inner(y, jnp.log(pred))/2.0\n",
    "    return loss\n",
    "\n",
    "cross_entropy_loss_second = vmap(make_cross_entropy_loss_second, in_axes=(None, 0, 0))\n",
    "\n",
    "def cross_entropy_loss_second_scalar(params, x, y):\n",
    "    return jnp.mean(cross_entropy_loss_second(params, x, y))\n",
    "\n",
    "jit_cross_entropy_loss_second_scalar = jit(cross_entropy_loss_second_scalar)\n",
    "\n",
    "for _ in range(nb_round_generation):\n",
    "\n",
    "    print(\"New generation\")\n",
    "    \n",
    "    obs_all, actions_all = generate_dataset()\n",
    "\n",
    "    dataset = TensorDataset(torch.from_numpy(np.array(obs_all)), torch.from_numpy(np.array(actions_all)))\n",
    "    dataloader = DataLoader(dataset, batch_size=32, shuffle=True)\n",
    "\n",
    "    for _ in range(nb_epoch):\n",
    "        \n",
    "        for obs, actions in dataloader:\n",
    "\n",
    "            obs = jnp.array(obs)\n",
    "            actions = jnp.array(actions)\n",
    "\n",
    "            # loss define\n",
    "            loss_grad_fn = jax.value_and_grad(jit_cross_entropy_loss_second_scalar, argnums=0)\n",
    "\n",
    "            # optimizer application\n",
    "            loss_val, grad = loss_grad_fn(params, obs, actions)\n",
    "\n",
    "            updates, opt_state = optimizer.update(grad, opt_state, params)  # transform & update stats.\n",
    "            params = optax.apply_updates(params, updates)\n",
    "\n",
    "            # save for plot\n",
    "            loss_hist.append(loss_val)\n",
    "        "
   ]
  },
  {
   "cell_type": "code",
   "execution_count": 9,
   "metadata": {},
   "outputs": [
    {
     "data": {
      "text/plain": [
       "[<matplotlib.lines.Line2D at 0x7f49042a9160>]"
      ]
     },
     "execution_count": 9,
     "metadata": {},
     "output_type": "execute_result"
    },
    {
     "data": {
      "image/png": "[encoded data removed]",
      "text/plain": [
       "<Figure size 432x288 with 1 Axes>"
      ]
     },
     "metadata": {
      "needs_background": "light"
     },
     "output_type": "display_data"
    }
   ],
   "source": [
    "plt.plot(loss_hist)"
   ]
  },
  {
   "cell_type": "code",
   "execution_count": null,
   "metadata": {},
   "outputs": [],
   "source": []
  },
  {
   "cell_type": "code",
   "execution_count": 105,
   "metadata": {},
   "outputs": [
    {
     "data": {
      "text/plain": [
       "[ScaleByAdamState(count=DeviceArray(0, dtype=int32), mu=FrozenDict({\n",
       "     params: {\n",
       "         dense1: {\n",
       "             bias: DeviceArray([0., 0., 0., ..., 0., 0., 0.], dtype=float32),\n",
       "             kernel: DeviceArray([[0., 0., 0., ..., 0., 0., 0.],\n",
       "                          [0., 0., 0., ..., 0., 0., 0.],\n",
       "                          [0., 0., 0., ..., 0., 0., 0.],\n",
       "                          ...,\n",
       "                          [0., 0., 0., ..., 0., 0., 0.],\n",
       "                          [0., 0., 0., ..., 0., 0., 0.],\n",
       "                          [0., 0., 0., ..., 0., 0., 0.]], dtype=float32),\n",
       "         },\n",
       "         dense2: {\n",
       "             bias: DeviceArray([0., 0., 0., ..., 0., 0., 0.], dtype=float32),\n",
       "             kernel: DeviceArray([[0., 0., 0., ..., 0., 0., 0.],\n",
       "                          [0., 0., 0., ..., 0., 0., 0.],\n",
       "                          [0., 0., 0., ..., 0., 0., 0.],\n",
       "                          ...,\n",
       "                          [0., 0., 0., ..., 0., 0., 0.],\n",
       "                          [0., 0., 0., ..., 0., 0., 0.],\n",
       "                          [0., 0., 0., ..., 0., 0., 0.]], dtype=float32),\n",
       "         },\n",
       "         dense3: {\n",
       "             bias: DeviceArray([0., 0., 0., 0., 0., 0., 0., 0., 0., 0., 0., 0., 0., 0., 0.,\n",
       "                          0., 0., 0., 0., 0., 0., 0., 0., 0., 0., 0., 0., 0., 0., 0.,\n",
       "                          0., 0., 0., 0., 0., 0., 0., 0., 0., 0., 0., 0., 0., 0., 0.,\n",
       "                          0., 0., 0., 0., 0., 0., 0., 0., 0., 0., 0., 0., 0., 0., 0.,\n",
       "                          0., 0., 0., 0., 0., 0., 0., 0., 0., 0., 0., 0., 0., 0., 0.,\n",
       "                          0., 0., 0., 0., 0., 0., 0., 0., 0., 0., 0., 0., 0., 0., 0.,\n",
       "                          0., 0., 0., 0., 0., 0., 0., 0., 0., 0., 0., 0., 0., 0., 0.,\n",
       "                          0., 0., 0., 0., 0., 0., 0., 0., 0., 0., 0., 0., 0., 0., 0.,\n",
       "                          0., 0., 0., 0., 0., 0., 0., 0., 0., 0., 0., 0., 0., 0., 0.,\n",
       "                          0., 0., 0., 0., 0., 0., 0., 0., 0., 0., 0., 0., 0., 0., 0.,\n",
       "                          0., 0., 0., 0., 0., 0., 0., 0., 0., 0., 0., 0., 0., 0., 0.,\n",
       "                          0., 0., 0., 0., 0., 0., 0., 0., 0., 0., 0., 0., 0., 0., 0.,\n",
       "                          0., 0., 0., 0., 0., 0., 0., 0., 0., 0., 0., 0., 0., 0., 0.,\n",
       "                          0., 0., 0., 0., 0., 0., 0., 0., 0., 0., 0., 0., 0., 0., 0.,\n",
       "                          0., 0., 0., 0., 0., 0., 0., 0., 0., 0., 0., 0., 0., 0., 0.,\n",
       "                          0., 0., 0., 0., 0., 0., 0., 0., 0., 0., 0., 0., 0., 0., 0.,\n",
       "                          0., 0., 0., 0., 0., 0., 0., 0., 0., 0., 0., 0., 0., 0., 0.,\n",
       "                          0., 0., 0., 0., 0., 0., 0., 0., 0., 0., 0., 0., 0., 0., 0.,\n",
       "                          0., 0., 0., 0., 0., 0., 0., 0., 0., 0., 0., 0., 0., 0., 0.,\n",
       "                          0., 0., 0., 0., 0., 0., 0., 0., 0., 0., 0., 0., 0., 0., 0.,\n",
       "                          0., 0., 0., 0., 0., 0., 0., 0., 0., 0., 0., 0., 0., 0., 0.,\n",
       "                          0., 0., 0., 0., 0., 0., 0., 0., 0., 0., 0., 0., 0., 0., 0.,\n",
       "                          0., 0., 0., 0., 0., 0., 0., 0., 0., 0., 0., 0., 0., 0., 0.,\n",
       "                          0., 0., 0., 0., 0., 0., 0., 0., 0., 0., 0., 0., 0., 0., 0.,\n",
       "                          0., 0., 0., 0., 0., 0., 0., 0., 0., 0., 0., 0., 0., 0., 0.,\n",
       "                          0., 0., 0., 0., 0., 0., 0., 0., 0., 0., 0., 0., 0., 0., 0.,\n",
       "                          0., 0., 0., 0., 0., 0., 0., 0., 0., 0., 0., 0., 0., 0., 0.,\n",
       "                          0., 0., 0., 0., 0., 0., 0., 0., 0., 0., 0., 0., 0., 0., 0.,\n",
       "                          0., 0., 0., 0., 0., 0., 0., 0., 0., 0., 0., 0., 0., 0., 0.,\n",
       "                          0., 0., 0., 0., 0., 0., 0., 0., 0., 0., 0., 0., 0., 0., 0.,\n",
       "                          0., 0., 0., 0., 0., 0., 0., 0., 0., 0., 0., 0., 0., 0., 0.,\n",
       "                          0., 0., 0., 0., 0., 0., 0., 0., 0., 0., 0., 0., 0., 0., 0.,\n",
       "                          0., 0., 0., 0., 0., 0., 0., 0., 0., 0., 0., 0., 0., 0., 0.,\n",
       "                          0., 0., 0., 0., 0., 0., 0., 0., 0., 0., 0., 0., 0., 0., 0.,\n",
       "                          0., 0.], dtype=float32),\n",
       "             kernel: DeviceArray([[0., 0., 0., ..., 0., 0., 0.],\n",
       "                          [0., 0., 0., ..., 0., 0., 0.],\n",
       "                          [0., 0., 0., ..., 0., 0., 0.],\n",
       "                          ...,\n",
       "                          [0., 0., 0., ..., 0., 0., 0.],\n",
       "                          [0., 0., 0., ..., 0., 0., 0.],\n",
       "                          [0., 0., 0., ..., 0., 0., 0.]], dtype=float32),\n",
       "         },\n",
       "         dense4: {\n",
       "             bias: DeviceArray([0., 0., 0., 0., 0., 0., 0., 0., 0., 0., 0., 0.], dtype=float32),\n",
       "             kernel: DeviceArray([[0., 0., 0., ..., 0., 0., 0.],\n",
       "                          [0., 0., 0., ..., 0., 0., 0.],\n",
       "                          [0., 0., 0., ..., 0., 0., 0.],\n",
       "                          ...,\n",
       "                          [0., 0., 0., ..., 0., 0., 0.],\n",
       "                          [0., 0., 0., ..., 0., 0., 0.],\n",
       "                          [0., 0., 0., ..., 0., 0., 0.]], dtype=float32),\n",
       "         },\n",
       "     },\n",
       " }), nu=FrozenDict({\n",
       "     params: {\n",
       "         dense1: {\n",
       "             bias: DeviceArray([0., 0., 0., ..., 0., 0., 0.], dtype=float32),\n",
       "             kernel: DeviceArray([[0., 0., 0., ..., 0., 0., 0.],\n",
       "                          [0., 0., 0., ..., 0., 0., 0.],\n",
       "                          [0., 0., 0., ..., 0., 0., 0.],\n",
       "                          ...,\n",
       "                          [0., 0., 0., ..., 0., 0., 0.],\n",
       "                          [0., 0., 0., ..., 0., 0., 0.],\n",
       "                          [0., 0., 0., ..., 0., 0., 0.]], dtype=float32),\n",
       "         },\n",
       "         dense2: {\n",
       "             bias: DeviceArray([0., 0., 0., ..., 0., 0., 0.], dtype=float32),\n",
       "             kernel: DeviceArray([[0., 0., 0., ..., 0., 0., 0.],\n",
       "                          [0., 0., 0., ..., 0., 0., 0.],\n",
       "                          [0., 0., 0., ..., 0., 0., 0.],\n",
       "                          ...,\n",
       "                          [0., 0., 0., ..., 0., 0., 0.],\n",
       "                          [0., 0., 0., ..., 0., 0., 0.],\n",
       "                          [0., 0., 0., ..., 0., 0., 0.]], dtype=float32),\n",
       "         },\n",
       "         dense3: {\n",
       "             bias: DeviceArray([0., 0., 0., 0., 0., 0., 0., 0., 0., 0., 0., 0., 0., 0., 0.,\n",
       "                          0., 0., 0., 0., 0., 0., 0., 0., 0., 0., 0., 0., 0., 0., 0.,\n",
       "                          0., 0., 0., 0., 0., 0., 0., 0., 0., 0., 0., 0., 0., 0., 0.,\n",
       "                          0., 0., 0., 0., 0., 0., 0., 0., 0., 0., 0., 0., 0., 0., 0.,\n",
       "                          0., 0., 0., 0., 0., 0., 0., 0., 0., 0., 0., 0., 0., 0., 0.,\n",
       "                          0., 0., 0., 0., 0., 0., 0., 0., 0., 0., 0., 0., 0., 0., 0.,\n",
       "                          0., 0., 0., 0., 0., 0., 0., 0., 0., 0., 0., 0., 0., 0., 0.,\n",
       "                          0., 0., 0., 0., 0., 0., 0., 0., 0., 0., 0., 0., 0., 0., 0.,\n",
       "                          0., 0., 0., 0., 0., 0., 0., 0., 0., 0., 0., 0., 0., 0., 0.,\n",
       "                          0., 0., 0., 0., 0., 0., 0., 0., 0., 0., 0., 0., 0., 0., 0.,\n",
       "                          0., 0., 0., 0., 0., 0., 0., 0., 0., 0., 0., 0., 0., 0., 0.,\n",
       "                          0., 0., 0., 0., 0., 0., 0., 0., 0., 0., 0., 0., 0., 0., 0.,\n",
       "                          0., 0., 0., 0., 0., 0., 0., 0., 0., 0., 0., 0., 0., 0., 0.,\n",
       "                          0., 0., 0., 0., 0., 0., 0., 0., 0., 0., 0., 0., 0., 0., 0.,\n",
       "                          0., 0., 0., 0., 0., 0., 0., 0., 0., 0., 0., 0., 0., 0., 0.,\n",
       "                          0., 0., 0., 0., 0., 0., 0., 0., 0., 0., 0., 0., 0., 0., 0.,\n",
       "                          0., 0., 0., 0., 0., 0., 0., 0., 0., 0., 0., 0., 0., 0., 0.,\n",
       "                          0., 0., 0., 0., 0., 0., 0., 0., 0., 0., 0., 0., 0., 0., 0.,\n",
       "                          0., 0., 0., 0., 0., 0., 0., 0., 0., 0., 0., 0., 0., 0., 0.,\n",
       "                          0., 0., 0., 0., 0., 0., 0., 0., 0., 0., 0., 0., 0., 0., 0.,\n",
       "                          0., 0., 0., 0., 0., 0., 0., 0., 0., 0., 0., 0., 0., 0., 0.,\n",
       "                          0., 0., 0., 0., 0., 0., 0., 0., 0., 0., 0., 0., 0., 0., 0.,\n",
       "                          0., 0., 0., 0., 0., 0., 0., 0., 0., 0., 0., 0., 0., 0., 0.,\n",
       "                          0., 0., 0., 0., 0., 0., 0., 0., 0., 0., 0., 0., 0., 0., 0.,\n",
       "                          0., 0., 0., 0., 0., 0., 0., 0., 0., 0., 0., 0., 0., 0., 0.,\n",
       "                          0., 0., 0., 0., 0., 0., 0., 0., 0., 0., 0., 0., 0., 0., 0.,\n",
       "                          0., 0., 0., 0., 0., 0., 0., 0., 0., 0., 0., 0., 0., 0., 0.,\n",
       "                          0., 0., 0., 0., 0., 0., 0., 0., 0., 0., 0., 0., 0., 0., 0.,\n",
       "                          0., 0., 0., 0., 0., 0., 0., 0., 0., 0., 0., 0., 0., 0., 0.,\n",
       "                          0., 0., 0., 0., 0., 0., 0., 0., 0., 0., 0., 0., 0., 0., 0.,\n",
       "                          0., 0., 0., 0., 0., 0., 0., 0., 0., 0., 0., 0., 0., 0., 0.,\n",
       "                          0., 0., 0., 0., 0., 0., 0., 0., 0., 0., 0., 0., 0., 0., 0.,\n",
       "                          0., 0., 0., 0., 0., 0., 0., 0., 0., 0., 0., 0., 0., 0., 0.,\n",
       "                          0., 0., 0., 0., 0., 0., 0., 0., 0., 0., 0., 0., 0., 0., 0.,\n",
       "                          0., 0.], dtype=float32),\n",
       "             kernel: DeviceArray([[0., 0., 0., ..., 0., 0., 0.],\n",
       "                          [0., 0., 0., ..., 0., 0., 0.],\n",
       "                          [0., 0., 0., ..., 0., 0., 0.],\n",
       "                          ...,\n",
       "                          [0., 0., 0., ..., 0., 0., 0.],\n",
       "                          [0., 0., 0., ..., 0., 0., 0.],\n",
       "                          [0., 0., 0., ..., 0., 0., 0.]], dtype=float32),\n",
       "         },\n",
       "         dense4: {\n",
       "             bias: DeviceArray([0., 0., 0., 0., 0., 0., 0., 0., 0., 0., 0., 0.], dtype=float32),\n",
       "             kernel: DeviceArray([[0., 0., 0., ..., 0., 0., 0.],\n",
       "                          [0., 0., 0., ..., 0., 0., 0.],\n",
       "                          [0., 0., 0., ..., 0., 0., 0.],\n",
       "                          ...,\n",
       "                          [0., 0., 0., ..., 0., 0., 0.],\n",
       "                          [0., 0., 0., ..., 0., 0., 0.],\n",
       "                          [0., 0., 0., ..., 0., 0., 0.]], dtype=float32),\n",
       "         },\n",
       "     },\n",
       " })),\n",
       " ScaleState()]"
      ]
     },
     "execution_count": 105,
     "metadata": {},
     "output_type": "execute_result"
    }
   ],
   "source": []
  },
  {
   "cell_type": "code",
   "execution_count": 82,
   "metadata": {},
   "outputs": [],
   "source": [
    "loss = -jnp.inner(actions[0,:], jnp.log(pred))/2.0"
   ]
  },
  {
   "cell_type": "code",
   "execution_count": null,
   "metadata": {},
   "outputs": [],
   "source": [
    "loss_hist"
   ]
  },
  {
   "cell_type": "code",
   "execution_count": null,
   "metadata": {},
   "outputs": [],
   "source": []
  },
  {
   "cell_type": "code",
   "execution_count": null,
   "metadata": {},
   "outputs": [],
   "source": []
  }
 ],
 "metadata": {
  "kernelspec": {
   "display_name": "Python 3",
   "language": "python",
   "name": "python3"
  },
  "language_info": {
   "codemirror_mode": {
    "name": "ipython",
    "version": 3
   },
   "file_extension": ".py",
   "mimetype": "text/x-python",
   "name": "python",
   "nbconvert_exporter": "python",
   "pygments_lexer": "ipython3",
   "version": "3.8.5"
  }
 },
 "nbformat": 4,
 "nbformat_minor": 4
}
